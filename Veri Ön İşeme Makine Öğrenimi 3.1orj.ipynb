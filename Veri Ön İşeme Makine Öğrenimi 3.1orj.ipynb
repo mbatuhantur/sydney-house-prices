{
 "cells": [
  {
   "cell_type": "code",
   "execution_count": 1,
   "metadata": {},
   "outputs": [],
   "source": [
    "import pandas as pd\n",
    "import numpy as np\n",
    "import seaborn as sns\n",
    "import matplotlib.pyplot as plt"
   ]
  },
  {
   "cell_type": "code",
   "execution_count": 2,
   "metadata": {},
   "outputs": [
    {
     "data": {
      "text/html": [
       "<div>\n",
       "<style scoped>\n",
       "    .dataframe tbody tr th:only-of-type {\n",
       "        vertical-align: middle;\n",
       "    }\n",
       "\n",
       "    .dataframe tbody tr th {\n",
       "        vertical-align: top;\n",
       "    }\n",
       "\n",
       "    .dataframe thead th {\n",
       "        text-align: right;\n",
       "    }\n",
       "</style>\n",
       "<table border=\"1\" class=\"dataframe\">\n",
       "  <thead>\n",
       "    <tr style=\"text-align: right;\">\n",
       "      <th></th>\n",
       "      <th>Date</th>\n",
       "      <th>Id</th>\n",
       "      <th>suburb</th>\n",
       "      <th>postalCode</th>\n",
       "      <th>sellPrice</th>\n",
       "      <th>bed</th>\n",
       "      <th>bath</th>\n",
       "      <th>car</th>\n",
       "      <th>propType</th>\n",
       "    </tr>\n",
       "  </thead>\n",
       "  <tbody>\n",
       "    <tr>\n",
       "      <th>0</th>\n",
       "      <td>2019-06-19</td>\n",
       "      <td>1</td>\n",
       "      <td>Avalon Beach</td>\n",
       "      <td>2107</td>\n",
       "      <td>1210000</td>\n",
       "      <td>4.0</td>\n",
       "      <td>2</td>\n",
       "      <td>2.0</td>\n",
       "      <td>house</td>\n",
       "    </tr>\n",
       "    <tr>\n",
       "      <th>1</th>\n",
       "      <td>2019-06-13</td>\n",
       "      <td>2</td>\n",
       "      <td>Avalon Beach</td>\n",
       "      <td>2107</td>\n",
       "      <td>2250000</td>\n",
       "      <td>4.0</td>\n",
       "      <td>3</td>\n",
       "      <td>4.0</td>\n",
       "      <td>house</td>\n",
       "    </tr>\n",
       "    <tr>\n",
       "      <th>2</th>\n",
       "      <td>2019-06-07</td>\n",
       "      <td>3</td>\n",
       "      <td>Whale Beach</td>\n",
       "      <td>2107</td>\n",
       "      <td>2920000</td>\n",
       "      <td>3.0</td>\n",
       "      <td>3</td>\n",
       "      <td>2.0</td>\n",
       "      <td>house</td>\n",
       "    </tr>\n",
       "    <tr>\n",
       "      <th>3</th>\n",
       "      <td>2019-05-28</td>\n",
       "      <td>4</td>\n",
       "      <td>Avalon Beach</td>\n",
       "      <td>2107</td>\n",
       "      <td>1530000</td>\n",
       "      <td>3.0</td>\n",
       "      <td>1</td>\n",
       "      <td>2.0</td>\n",
       "      <td>house</td>\n",
       "    </tr>\n",
       "    <tr>\n",
       "      <th>4</th>\n",
       "      <td>2019-05-22</td>\n",
       "      <td>5</td>\n",
       "      <td>Whale Beach</td>\n",
       "      <td>2107</td>\n",
       "      <td>8000000</td>\n",
       "      <td>5.0</td>\n",
       "      <td>4</td>\n",
       "      <td>4.0</td>\n",
       "      <td>house</td>\n",
       "    </tr>\n",
       "    <tr>\n",
       "      <th>...</th>\n",
       "      <td>...</td>\n",
       "      <td>...</td>\n",
       "      <td>...</td>\n",
       "      <td>...</td>\n",
       "      <td>...</td>\n",
       "      <td>...</td>\n",
       "      <td>...</td>\n",
       "      <td>...</td>\n",
       "      <td>...</td>\n",
       "    </tr>\n",
       "    <tr>\n",
       "      <th>199499</th>\n",
       "      <td>2014-06-20</td>\n",
       "      <td>199500</td>\n",
       "      <td>Illawong</td>\n",
       "      <td>2234</td>\n",
       "      <td>1900000</td>\n",
       "      <td>5.0</td>\n",
       "      <td>3</td>\n",
       "      <td>7.0</td>\n",
       "      <td>house</td>\n",
       "    </tr>\n",
       "    <tr>\n",
       "      <th>199500</th>\n",
       "      <td>2014-05-26</td>\n",
       "      <td>199501</td>\n",
       "      <td>Illawong</td>\n",
       "      <td>2234</td>\n",
       "      <td>980000</td>\n",
       "      <td>4.0</td>\n",
       "      <td>3</td>\n",
       "      <td>2.0</td>\n",
       "      <td>house</td>\n",
       "    </tr>\n",
       "    <tr>\n",
       "      <th>199501</th>\n",
       "      <td>2014-04-17</td>\n",
       "      <td>199502</td>\n",
       "      <td>Alfords Point</td>\n",
       "      <td>2234</td>\n",
       "      <td>850000</td>\n",
       "      <td>4.0</td>\n",
       "      <td>2</td>\n",
       "      <td>2.0</td>\n",
       "      <td>house</td>\n",
       "    </tr>\n",
       "    <tr>\n",
       "      <th>199502</th>\n",
       "      <td>2013-09-07</td>\n",
       "      <td>199503</td>\n",
       "      <td>Illawong</td>\n",
       "      <td>2234</td>\n",
       "      <td>640000</td>\n",
       "      <td>3.0</td>\n",
       "      <td>2</td>\n",
       "      <td>2.0</td>\n",
       "      <td>townhouse</td>\n",
       "    </tr>\n",
       "    <tr>\n",
       "      <th>199503</th>\n",
       "      <td>2011-04-16</td>\n",
       "      <td>199504</td>\n",
       "      <td>Alfords Point</td>\n",
       "      <td>2234</td>\n",
       "      <td>1611000</td>\n",
       "      <td>5.0</td>\n",
       "      <td>4</td>\n",
       "      <td>3.0</td>\n",
       "      <td>house</td>\n",
       "    </tr>\n",
       "  </tbody>\n",
       "</table>\n",
       "<p>199504 rows × 9 columns</p>\n",
       "</div>"
      ],
      "text/plain": [
       "              Date      Id         suburb  postalCode  sellPrice  bed  bath  \\\n",
       "0       2019-06-19       1   Avalon Beach        2107    1210000  4.0     2   \n",
       "1       2019-06-13       2   Avalon Beach        2107    2250000  4.0     3   \n",
       "2       2019-06-07       3    Whale Beach        2107    2920000  3.0     3   \n",
       "3       2019-05-28       4   Avalon Beach        2107    1530000  3.0     1   \n",
       "4       2019-05-22       5    Whale Beach        2107    8000000  5.0     4   \n",
       "...            ...     ...            ...         ...        ...  ...   ...   \n",
       "199499  2014-06-20  199500       Illawong        2234    1900000  5.0     3   \n",
       "199500  2014-05-26  199501       Illawong        2234     980000  4.0     3   \n",
       "199501  2014-04-17  199502  Alfords Point        2234     850000  4.0     2   \n",
       "199502  2013-09-07  199503       Illawong        2234     640000  3.0     2   \n",
       "199503  2011-04-16  199504  Alfords Point        2234    1611000  5.0     4   \n",
       "\n",
       "        car   propType  \n",
       "0       2.0      house  \n",
       "1       4.0      house  \n",
       "2       2.0      house  \n",
       "3       2.0      house  \n",
       "4       4.0      house  \n",
       "...     ...        ...  \n",
       "199499  7.0      house  \n",
       "199500  2.0      house  \n",
       "199501  2.0      house  \n",
       "199502  2.0  townhouse  \n",
       "199503  3.0      house  \n",
       "\n",
       "[199504 rows x 9 columns]"
      ]
     },
     "execution_count": 2,
     "metadata": {},
     "output_type": "execute_result"
    }
   ],
   "source": [
    "SydneyHousePrices = pd.read_csv(r\"C:\\Users\\Batuhan\\SydneyHousePrices.csv\")\n",
    "df = SydneyHousePrices.copy()\n",
    "df"
   ]
  },
  {
   "cell_type": "code",
   "execution_count": 3,
   "metadata": {},
   "outputs": [
    {
     "name": "stdout",
     "output_type": "stream",
     "text": [
      "<class 'pandas.core.frame.DataFrame'>\n",
      "RangeIndex: 199504 entries, 0 to 199503\n",
      "Data columns (total 9 columns):\n",
      " #   Column      Non-Null Count   Dtype  \n",
      "---  ------      --------------   -----  \n",
      " 0   Date        199504 non-null  object \n",
      " 1   Id          199504 non-null  int64  \n",
      " 2   suburb      199504 non-null  object \n",
      " 3   postalCode  199504 non-null  int64  \n",
      " 4   sellPrice   199504 non-null  int64  \n",
      " 5   bed         199350 non-null  float64\n",
      " 6   bath        199504 non-null  int64  \n",
      " 7   car         181353 non-null  float64\n",
      " 8   propType    199504 non-null  object \n",
      "dtypes: float64(2), int64(4), object(3)\n",
      "memory usage: 13.7+ MB\n"
     ]
    }
   ],
   "source": [
    "df.info()\n",
    "#veri tiplerimize bakıyoruz burada \n",
    "#düzenlenmiş yani değerleri doğru bir atama almış burada\n",
    "#veri tipleri görselleştirmede de çok önemli bizler için herşeyden önce veri tiplerine bakarak neyi tahmin etmeye çalışıyoruz\n",
    "#modeli neyin üstüne kuracağız neyi tahmin etmeye çalışıyoruz ve hangi verilerden tahmin ettiğimizi öğrenmemiz gerek\n",
    "#keşifsel veri analizi bu durum için büyük bir örnek\n",
    "#mesela biizm burada hedefimiz insanların bir kendi istediklerine göre bir ev almak üzere olduklarında karşılarına çıkacak \n",
    "#fiyat ve bunu tahmin etmek böyle olunca biz bir regresyon problemi çözüyoruz"
   ]
  },
  {
   "cell_type": "code",
   "execution_count": 4,
   "metadata": {},
   "outputs": [
    {
     "data": {
      "text/plain": [
       "Date          False\n",
       "Id            False\n",
       "suburb        False\n",
       "postalCode    False\n",
       "sellPrice     False\n",
       "bed            True\n",
       "bath          False\n",
       "car            True\n",
       "propType      False\n",
       "dtype: bool"
      ]
     },
     "execution_count": 4,
     "metadata": {},
     "output_type": "execute_result"
    }
   ],
   "source": [
    "df.isna().any() #bu bir pandas metodu bir kolunun any kayıp veri olup olmadığına bakıyor.\n",
    "#buna any dediğimizde bir tane bile kayıp veri varsa yanında true yazacaktır.\n",
    "#ve biz de bed ve car içerisinde kayıo veriler olduğunu görüyoruz."
   ]
  },
  {
   "cell_type": "code",
   "execution_count": 5,
   "metadata": {},
   "outputs": [
    {
     "data": {
      "text/plain": [
       "Date          False\n",
       "Id            False\n",
       "suburb        False\n",
       "postalCode    False\n",
       "sellPrice     False\n",
       "bed           False\n",
       "bath          False\n",
       "car           False\n",
       "propType      False\n",
       "dtype: bool"
      ]
     },
     "execution_count": 5,
     "metadata": {},
     "output_type": "execute_result"
    }
   ],
   "source": [
    "df.isna().all() # bu da tamamı an olan colonları getirir bize bir tanesi bile kayıp değilse bize false döndürecek "
   ]
  },
  {
   "cell_type": "code",
   "execution_count": 6,
   "metadata": {},
   "outputs": [
    {
     "data": {
      "text/plain": [
       "Date              0\n",
       "Id                0\n",
       "suburb            0\n",
       "postalCode        0\n",
       "sellPrice         0\n",
       "bed             154\n",
       "bath              0\n",
       "car           18151\n",
       "propType          0\n",
       "dtype: int64"
      ]
     },
     "execution_count": 6,
     "metadata": {},
     "output_type": "execute_result"
    }
   ],
   "source": [
    "df.isna().sum() #dersek bize her kolun için örneğimizde kaçtane kayıp olduğunu gösteriri. ve gördüğümüz gibi bu sette\n",
    "#yaklaşık 20k kayıp veri var\n"
   ]
  },
  {
   "cell_type": "code",
   "execution_count": null,
   "metadata": {},
   "outputs": [],
   "source": []
  },
  {
   "cell_type": "code",
   "execution_count": 7,
   "metadata": {},
   "outputs": [
    {
     "data": {
      "text/plain": [
       "Index(['Date', 'suburb', 'propType'], dtype='object')"
      ]
     },
     "execution_count": 7,
     "metadata": {},
     "output_type": "execute_result"
    }
   ],
   "source": [
    "df.select_dtypes([\"object\"]).columns"
   ]
  },
  {
   "cell_type": "code",
   "execution_count": 8,
   "metadata": {},
   "outputs": [
    {
     "data": {
      "text/plain": [
       "Castle Hill         1250\n",
       "Strathfield         1248\n",
       "Ermington           1248\n",
       "Carlingford         1247\n",
       "Auburn              1244\n",
       "                    ... \n",
       "Maldon                 1\n",
       "Balmoral Village       1\n",
       "Wedderburn             1\n",
       "Brunswick East         1\n",
       "The Ponds              1\n",
       "Name: suburb, Length: 685, dtype: int64"
      ]
     },
     "execution_count": 8,
     "metadata": {},
     "output_type": "execute_result"
    }
   ],
   "source": [
    "df[\"suburb\"].value_counts() # mahalle"
   ]
  },
  {
   "cell_type": "code",
   "execution_count": 9,
   "metadata": {},
   "outputs": [
    {
     "data": {
      "text/plain": [
       "3.0     83066\n",
       "4.0     63348\n",
       "2.0     23109\n",
       "5.0     22987\n",
       "6.0      4129\n",
       "1.0      1383\n",
       "7.0       763\n",
       "8.0       276\n",
       "9.0       103\n",
       "10.0       64\n",
       "12.0       35\n",
       "11.0       18\n",
       "13.0       10\n",
       "14.0        9\n",
       "16.0        8\n",
       "15.0        8\n",
       "20.0        8\n",
       "30.0        5\n",
       "23.0        3\n",
       "18.0        3\n",
       "17.0        3\n",
       "19.0        3\n",
       "24.0        2\n",
       "34.0        1\n",
       "26.0        1\n",
       "45.0        1\n",
       "99.0        1\n",
       "22.0        1\n",
       "21.0        1\n",
       "36.0        1\n",
       "Name: bed, dtype: int64"
      ]
     },
     "execution_count": 9,
     "metadata": {},
     "output_type": "execute_result"
    }
   ],
   "source": [
    "df[\"bed\"].value_counts()"
   ]
  },
  {
   "cell_type": "code",
   "execution_count": 10,
   "metadata": {},
   "outputs": [
    {
     "data": {
      "text/plain": [
       "2     86482\n",
       "1     73128\n",
       "3     31858\n",
       "4      6028\n",
       "5      1406\n",
       "6       386\n",
       "7       107\n",
       "8        44\n",
       "10       20\n",
       "12        9\n",
       "9         8\n",
       "20        8\n",
       "11        5\n",
       "14        3\n",
       "16        3\n",
       "13        1\n",
       "60        1\n",
       "15        1\n",
       "17        1\n",
       "18        1\n",
       "19        1\n",
       "21        1\n",
       "24        1\n",
       "99        1\n",
       "Name: bath, dtype: int64"
      ]
     },
     "execution_count": 10,
     "metadata": {},
     "output_type": "execute_result"
    }
   ],
   "source": [
    "df[\"bath\"].value_counts()"
   ]
  },
  {
   "cell_type": "code",
   "execution_count": 11,
   "metadata": {},
   "outputs": [
    {
     "data": {
      "text/plain": [
       "2.0     91044\n",
       "1.0     61894\n",
       "3.0     15575\n",
       "4.0      8899\n",
       "5.0      1699\n",
       "6.0      1294\n",
       "8.0       302\n",
       "7.0       274\n",
       "10.0      147\n",
       "9.0        87\n",
       "12.0       48\n",
       "11.0       19\n",
       "15.0       17\n",
       "13.0       13\n",
       "14.0       11\n",
       "16.0        9\n",
       "20.0        9\n",
       "24.0        2\n",
       "30.0        2\n",
       "17.0        2\n",
       "21.0        1\n",
       "41.0        1\n",
       "22.0        1\n",
       "29.0        1\n",
       "31.0        1\n",
       "18.0        1\n",
       "Name: car, dtype: int64"
      ]
     },
     "execution_count": 11,
     "metadata": {},
     "output_type": "execute_result"
    }
   ],
   "source": [
    "df[\"car\"].value_counts()"
   ]
  },
  {
   "cell_type": "code",
   "execution_count": 12,
   "metadata": {},
   "outputs": [
    {
     "data": {
      "text/plain": [
       "house                   170117\n",
       "townhouse                15177\n",
       "duplex/semi-detached      6722\n",
       "villa                     5701\n",
       "terrace                   1344\n",
       "other                      392\n",
       "warehouse                   40\n",
       "acreage                     11\n",
       "Name: propType, dtype: int64"
      ]
     },
     "execution_count": 12,
     "metadata": {},
     "output_type": "execute_result"
    }
   ],
   "source": [
    "df[\"propType\"].value_counts()"
   ]
  },
  {
   "cell_type": "code",
   "execution_count": 13,
   "metadata": {},
   "outputs": [
    {
     "data": {
      "text/html": [
       "<div>\n",
       "<style scoped>\n",
       "    .dataframe tbody tr th:only-of-type {\n",
       "        vertical-align: middle;\n",
       "    }\n",
       "\n",
       "    .dataframe tbody tr th {\n",
       "        vertical-align: top;\n",
       "    }\n",
       "\n",
       "    .dataframe thead th {\n",
       "        text-align: right;\n",
       "    }\n",
       "</style>\n",
       "<table border=\"1\" class=\"dataframe\">\n",
       "  <thead>\n",
       "    <tr style=\"text-align: right;\">\n",
       "      <th></th>\n",
       "      <th>count</th>\n",
       "      <th>mean</th>\n",
       "      <th>std</th>\n",
       "      <th>min</th>\n",
       "      <th>25%</th>\n",
       "      <th>50%</th>\n",
       "      <th>75%</th>\n",
       "      <th>max</th>\n",
       "    </tr>\n",
       "  </thead>\n",
       "  <tbody>\n",
       "    <tr>\n",
       "      <th>Id</th>\n",
       "      <td>199504.0</td>\n",
       "      <td>9.975250e+04</td>\n",
       "      <td>5.759199e+04</td>\n",
       "      <td>1.0</td>\n",
       "      <td>49876.75</td>\n",
       "      <td>99752.5</td>\n",
       "      <td>149628.25</td>\n",
       "      <td>1.995040e+05</td>\n",
       "    </tr>\n",
       "    <tr>\n",
       "      <th>postalCode</th>\n",
       "      <td>199504.0</td>\n",
       "      <td>2.196379e+03</td>\n",
       "      <td>1.930535e+02</td>\n",
       "      <td>2000.0</td>\n",
       "      <td>2082.00</td>\n",
       "      <td>2144.0</td>\n",
       "      <td>2211.00</td>\n",
       "      <td>4.878000e+03</td>\n",
       "    </tr>\n",
       "    <tr>\n",
       "      <th>sellPrice</th>\n",
       "      <td>199504.0</td>\n",
       "      <td>1.269776e+06</td>\n",
       "      <td>6.948239e+06</td>\n",
       "      <td>1.0</td>\n",
       "      <td>720000.00</td>\n",
       "      <td>985000.0</td>\n",
       "      <td>1475000.00</td>\n",
       "      <td>2.147484e+09</td>\n",
       "    </tr>\n",
       "    <tr>\n",
       "      <th>bed</th>\n",
       "      <td>199350.0</td>\n",
       "      <td>3.516479e+00</td>\n",
       "      <td>1.066555e+00</td>\n",
       "      <td>1.0</td>\n",
       "      <td>3.00</td>\n",
       "      <td>3.0</td>\n",
       "      <td>4.00</td>\n",
       "      <td>9.900000e+01</td>\n",
       "    </tr>\n",
       "    <tr>\n",
       "      <th>bath</th>\n",
       "      <td>199504.0</td>\n",
       "      <td>1.890669e+00</td>\n",
       "      <td>9.260006e-01</td>\n",
       "      <td>1.0</td>\n",
       "      <td>1.00</td>\n",
       "      <td>2.0</td>\n",
       "      <td>2.00</td>\n",
       "      <td>9.900000e+01</td>\n",
       "    </tr>\n",
       "    <tr>\n",
       "      <th>car</th>\n",
       "      <td>181353.0</td>\n",
       "      <td>1.936224e+00</td>\n",
       "      <td>1.060237e+00</td>\n",
       "      <td>1.0</td>\n",
       "      <td>1.00</td>\n",
       "      <td>2.0</td>\n",
       "      <td>2.00</td>\n",
       "      <td>4.100000e+01</td>\n",
       "    </tr>\n",
       "  </tbody>\n",
       "</table>\n",
       "</div>"
      ],
      "text/plain": [
       "               count          mean           std     min        25%       50%  \\\n",
       "Id          199504.0  9.975250e+04  5.759199e+04     1.0   49876.75   99752.5   \n",
       "postalCode  199504.0  2.196379e+03  1.930535e+02  2000.0    2082.00    2144.0   \n",
       "sellPrice   199504.0  1.269776e+06  6.948239e+06     1.0  720000.00  985000.0   \n",
       "bed         199350.0  3.516479e+00  1.066555e+00     1.0       3.00       3.0   \n",
       "bath        199504.0  1.890669e+00  9.260006e-01     1.0       1.00       2.0   \n",
       "car         181353.0  1.936224e+00  1.060237e+00     1.0       1.00       2.0   \n",
       "\n",
       "                   75%           max  \n",
       "Id           149628.25  1.995040e+05  \n",
       "postalCode     2211.00  4.878000e+03  \n",
       "sellPrice   1475000.00  2.147484e+09  \n",
       "bed               4.00  9.900000e+01  \n",
       "bath              2.00  9.900000e+01  \n",
       "car               2.00  4.100000e+01  "
      ]
     },
     "execution_count": 13,
     "metadata": {},
     "output_type": "execute_result"
    }
   ],
   "source": [
    "df.describe().T #bizim şunu görmemizi sağlıyor bir ev 0 değerinde olamaz yani bedava veri bilin temelinde de çalıştığınız alana \n",
    "#dair bir fikir sahibi olmak yatıyor şunuda yapabilirsiniz sahibinden e mesaj atıp bunların referan değerlerini isteyip atıyorum\n",
    "#en ucuz fiyat öğrenmek istediğiniz ve 50k dedi siz 50 altını artık silebilirsiniz bunlar artık aykırı veriler olmuş olur.\n",
    "#ve bu model öğrenmemizi çok kötü etkiliyor şuan aşşağıda bunlar silinmiş değil tabiki\n",
    "#bu aykırı verileri şöyle görebiliriz medyan değerimiz yani veri sıraladığımız ortada kalan değerinden ne kadar uzakta bizim max\n",
    "#min değerimiz"
   ]
  },
  {
   "cell_type": "code",
   "execution_count": 14,
   "metadata": {},
   "outputs": [],
   "source": [
    "#her özellikten kaçar satır var ve kayıp verş varsa bunların hepsi aynı olmayabilir ve her özelliğin ortalaması ne kdar standart\n",
    "#standart sapması ne kadar  min max değeri ve mendyan değeri 50.percent dediğimiz değerler var \n",
    "#bunlar bizler için önemlidir.\n"
   ]
  },
  {
   "cell_type": "code",
   "execution_count": 15,
   "metadata": {},
   "outputs": [],
   "source": [
    "df[\"Date\"] = pd.to_datetime(df[\"Date\"])\n",
    "df[\"Year\"] = df[\"Date\"].dt.year\n",
    "df[\"Month\"] = df[\"Date\"].dt.month\n",
    "df[\"Day\"] = df[\"Date\"].dt.day"
   ]
  },
  {
   "cell_type": "code",
   "execution_count": 16,
   "metadata": {},
   "outputs": [
    {
     "data": {
      "text/html": [
       "<div>\n",
       "<style scoped>\n",
       "    .dataframe tbody tr th:only-of-type {\n",
       "        vertical-align: middle;\n",
       "    }\n",
       "\n",
       "    .dataframe tbody tr th {\n",
       "        vertical-align: top;\n",
       "    }\n",
       "\n",
       "    .dataframe thead th {\n",
       "        text-align: right;\n",
       "    }\n",
       "</style>\n",
       "<table border=\"1\" class=\"dataframe\">\n",
       "  <thead>\n",
       "    <tr style=\"text-align: right;\">\n",
       "      <th></th>\n",
       "      <th>Date</th>\n",
       "      <th>Id</th>\n",
       "      <th>suburb</th>\n",
       "      <th>postalCode</th>\n",
       "      <th>sellPrice</th>\n",
       "      <th>bed</th>\n",
       "      <th>bath</th>\n",
       "      <th>car</th>\n",
       "      <th>propType</th>\n",
       "      <th>Year</th>\n",
       "      <th>Month</th>\n",
       "      <th>Day</th>\n",
       "    </tr>\n",
       "  </thead>\n",
       "  <tbody>\n",
       "    <tr>\n",
       "      <th>0</th>\n",
       "      <td>2019-06-19</td>\n",
       "      <td>1</td>\n",
       "      <td>Avalon Beach</td>\n",
       "      <td>2107</td>\n",
       "      <td>1210000</td>\n",
       "      <td>4.0</td>\n",
       "      <td>2</td>\n",
       "      <td>2.0</td>\n",
       "      <td>house</td>\n",
       "      <td>2019</td>\n",
       "      <td>6</td>\n",
       "      <td>19</td>\n",
       "    </tr>\n",
       "    <tr>\n",
       "      <th>1</th>\n",
       "      <td>2019-06-13</td>\n",
       "      <td>2</td>\n",
       "      <td>Avalon Beach</td>\n",
       "      <td>2107</td>\n",
       "      <td>2250000</td>\n",
       "      <td>4.0</td>\n",
       "      <td>3</td>\n",
       "      <td>4.0</td>\n",
       "      <td>house</td>\n",
       "      <td>2019</td>\n",
       "      <td>6</td>\n",
       "      <td>13</td>\n",
       "    </tr>\n",
       "    <tr>\n",
       "      <th>2</th>\n",
       "      <td>2019-06-07</td>\n",
       "      <td>3</td>\n",
       "      <td>Whale Beach</td>\n",
       "      <td>2107</td>\n",
       "      <td>2920000</td>\n",
       "      <td>3.0</td>\n",
       "      <td>3</td>\n",
       "      <td>2.0</td>\n",
       "      <td>house</td>\n",
       "      <td>2019</td>\n",
       "      <td>6</td>\n",
       "      <td>7</td>\n",
       "    </tr>\n",
       "    <tr>\n",
       "      <th>3</th>\n",
       "      <td>2019-05-28</td>\n",
       "      <td>4</td>\n",
       "      <td>Avalon Beach</td>\n",
       "      <td>2107</td>\n",
       "      <td>1530000</td>\n",
       "      <td>3.0</td>\n",
       "      <td>1</td>\n",
       "      <td>2.0</td>\n",
       "      <td>house</td>\n",
       "      <td>2019</td>\n",
       "      <td>5</td>\n",
       "      <td>28</td>\n",
       "    </tr>\n",
       "    <tr>\n",
       "      <th>4</th>\n",
       "      <td>2019-05-22</td>\n",
       "      <td>5</td>\n",
       "      <td>Whale Beach</td>\n",
       "      <td>2107</td>\n",
       "      <td>8000000</td>\n",
       "      <td>5.0</td>\n",
       "      <td>4</td>\n",
       "      <td>4.0</td>\n",
       "      <td>house</td>\n",
       "      <td>2019</td>\n",
       "      <td>5</td>\n",
       "      <td>22</td>\n",
       "    </tr>\n",
       "  </tbody>\n",
       "</table>\n",
       "</div>"
      ],
      "text/plain": [
       "        Date  Id        suburb  postalCode  sellPrice  bed  bath  car  \\\n",
       "0 2019-06-19   1  Avalon Beach        2107    1210000  4.0     2  2.0   \n",
       "1 2019-06-13   2  Avalon Beach        2107    2250000  4.0     3  4.0   \n",
       "2 2019-06-07   3   Whale Beach        2107    2920000  3.0     3  2.0   \n",
       "3 2019-05-28   4  Avalon Beach        2107    1530000  3.0     1  2.0   \n",
       "4 2019-05-22   5   Whale Beach        2107    8000000  5.0     4  4.0   \n",
       "\n",
       "  propType  Year  Month  Day  \n",
       "0    house  2019      6   19  \n",
       "1    house  2019      6   13  \n",
       "2    house  2019      6    7  \n",
       "3    house  2019      5   28  \n",
       "4    house  2019      5   22  "
      ]
     },
     "execution_count": 16,
     "metadata": {},
     "output_type": "execute_result"
    }
   ],
   "source": [
    "df.head()"
   ]
  },
  {
   "cell_type": "code",
   "execution_count": 17,
   "metadata": {},
   "outputs": [],
   "source": [
    "df = df.drop([\"Id\",\"Date\"],axis=1)"
   ]
  },
  {
   "cell_type": "code",
   "execution_count": 18,
   "metadata": {},
   "outputs": [
    {
     "data": {
      "text/html": [
       "<div>\n",
       "<style scoped>\n",
       "    .dataframe tbody tr th:only-of-type {\n",
       "        vertical-align: middle;\n",
       "    }\n",
       "\n",
       "    .dataframe tbody tr th {\n",
       "        vertical-align: top;\n",
       "    }\n",
       "\n",
       "    .dataframe thead th {\n",
       "        text-align: right;\n",
       "    }\n",
       "</style>\n",
       "<table border=\"1\" class=\"dataframe\">\n",
       "  <thead>\n",
       "    <tr style=\"text-align: right;\">\n",
       "      <th></th>\n",
       "      <th>suburb</th>\n",
       "      <th>postalCode</th>\n",
       "      <th>sellPrice</th>\n",
       "      <th>bed</th>\n",
       "      <th>bath</th>\n",
       "      <th>car</th>\n",
       "      <th>propType</th>\n",
       "      <th>Year</th>\n",
       "      <th>Month</th>\n",
       "      <th>Day</th>\n",
       "    </tr>\n",
       "  </thead>\n",
       "  <tbody>\n",
       "    <tr>\n",
       "      <th>0</th>\n",
       "      <td>Avalon Beach</td>\n",
       "      <td>2107</td>\n",
       "      <td>1210000</td>\n",
       "      <td>4.0</td>\n",
       "      <td>2</td>\n",
       "      <td>2.0</td>\n",
       "      <td>house</td>\n",
       "      <td>2019</td>\n",
       "      <td>6</td>\n",
       "      <td>19</td>\n",
       "    </tr>\n",
       "    <tr>\n",
       "      <th>1</th>\n",
       "      <td>Avalon Beach</td>\n",
       "      <td>2107</td>\n",
       "      <td>2250000</td>\n",
       "      <td>4.0</td>\n",
       "      <td>3</td>\n",
       "      <td>4.0</td>\n",
       "      <td>house</td>\n",
       "      <td>2019</td>\n",
       "      <td>6</td>\n",
       "      <td>13</td>\n",
       "    </tr>\n",
       "    <tr>\n",
       "      <th>2</th>\n",
       "      <td>Whale Beach</td>\n",
       "      <td>2107</td>\n",
       "      <td>2920000</td>\n",
       "      <td>3.0</td>\n",
       "      <td>3</td>\n",
       "      <td>2.0</td>\n",
       "      <td>house</td>\n",
       "      <td>2019</td>\n",
       "      <td>6</td>\n",
       "      <td>7</td>\n",
       "    </tr>\n",
       "    <tr>\n",
       "      <th>3</th>\n",
       "      <td>Avalon Beach</td>\n",
       "      <td>2107</td>\n",
       "      <td>1530000</td>\n",
       "      <td>3.0</td>\n",
       "      <td>1</td>\n",
       "      <td>2.0</td>\n",
       "      <td>house</td>\n",
       "      <td>2019</td>\n",
       "      <td>5</td>\n",
       "      <td>28</td>\n",
       "    </tr>\n",
       "    <tr>\n",
       "      <th>4</th>\n",
       "      <td>Whale Beach</td>\n",
       "      <td>2107</td>\n",
       "      <td>8000000</td>\n",
       "      <td>5.0</td>\n",
       "      <td>4</td>\n",
       "      <td>4.0</td>\n",
       "      <td>house</td>\n",
       "      <td>2019</td>\n",
       "      <td>5</td>\n",
       "      <td>22</td>\n",
       "    </tr>\n",
       "    <tr>\n",
       "      <th>...</th>\n",
       "      <td>...</td>\n",
       "      <td>...</td>\n",
       "      <td>...</td>\n",
       "      <td>...</td>\n",
       "      <td>...</td>\n",
       "      <td>...</td>\n",
       "      <td>...</td>\n",
       "      <td>...</td>\n",
       "      <td>...</td>\n",
       "      <td>...</td>\n",
       "    </tr>\n",
       "    <tr>\n",
       "      <th>199499</th>\n",
       "      <td>Illawong</td>\n",
       "      <td>2234</td>\n",
       "      <td>1900000</td>\n",
       "      <td>5.0</td>\n",
       "      <td>3</td>\n",
       "      <td>7.0</td>\n",
       "      <td>house</td>\n",
       "      <td>2014</td>\n",
       "      <td>6</td>\n",
       "      <td>20</td>\n",
       "    </tr>\n",
       "    <tr>\n",
       "      <th>199500</th>\n",
       "      <td>Illawong</td>\n",
       "      <td>2234</td>\n",
       "      <td>980000</td>\n",
       "      <td>4.0</td>\n",
       "      <td>3</td>\n",
       "      <td>2.0</td>\n",
       "      <td>house</td>\n",
       "      <td>2014</td>\n",
       "      <td>5</td>\n",
       "      <td>26</td>\n",
       "    </tr>\n",
       "    <tr>\n",
       "      <th>199501</th>\n",
       "      <td>Alfords Point</td>\n",
       "      <td>2234</td>\n",
       "      <td>850000</td>\n",
       "      <td>4.0</td>\n",
       "      <td>2</td>\n",
       "      <td>2.0</td>\n",
       "      <td>house</td>\n",
       "      <td>2014</td>\n",
       "      <td>4</td>\n",
       "      <td>17</td>\n",
       "    </tr>\n",
       "    <tr>\n",
       "      <th>199502</th>\n",
       "      <td>Illawong</td>\n",
       "      <td>2234</td>\n",
       "      <td>640000</td>\n",
       "      <td>3.0</td>\n",
       "      <td>2</td>\n",
       "      <td>2.0</td>\n",
       "      <td>townhouse</td>\n",
       "      <td>2013</td>\n",
       "      <td>9</td>\n",
       "      <td>7</td>\n",
       "    </tr>\n",
       "    <tr>\n",
       "      <th>199503</th>\n",
       "      <td>Alfords Point</td>\n",
       "      <td>2234</td>\n",
       "      <td>1611000</td>\n",
       "      <td>5.0</td>\n",
       "      <td>4</td>\n",
       "      <td>3.0</td>\n",
       "      <td>house</td>\n",
       "      <td>2011</td>\n",
       "      <td>4</td>\n",
       "      <td>16</td>\n",
       "    </tr>\n",
       "  </tbody>\n",
       "</table>\n",
       "<p>199504 rows × 10 columns</p>\n",
       "</div>"
      ],
      "text/plain": [
       "               suburb  postalCode  sellPrice  bed  bath  car   propType  Year  \\\n",
       "0        Avalon Beach        2107    1210000  4.0     2  2.0      house  2019   \n",
       "1        Avalon Beach        2107    2250000  4.0     3  4.0      house  2019   \n",
       "2         Whale Beach        2107    2920000  3.0     3  2.0      house  2019   \n",
       "3        Avalon Beach        2107    1530000  3.0     1  2.0      house  2019   \n",
       "4         Whale Beach        2107    8000000  5.0     4  4.0      house  2019   \n",
       "...               ...         ...        ...  ...   ...  ...        ...   ...   \n",
       "199499       Illawong        2234    1900000  5.0     3  7.0      house  2014   \n",
       "199500       Illawong        2234     980000  4.0     3  2.0      house  2014   \n",
       "199501  Alfords Point        2234     850000  4.0     2  2.0      house  2014   \n",
       "199502       Illawong        2234     640000  3.0     2  2.0  townhouse  2013   \n",
       "199503  Alfords Point        2234    1611000  5.0     4  3.0      house  2011   \n",
       "\n",
       "        Month  Day  \n",
       "0           6   19  \n",
       "1           6   13  \n",
       "2           6    7  \n",
       "3           5   28  \n",
       "4           5   22  \n",
       "...       ...  ...  \n",
       "199499      6   20  \n",
       "199500      5   26  \n",
       "199501      4   17  \n",
       "199502      9    7  \n",
       "199503      4   16  \n",
       "\n",
       "[199504 rows x 10 columns]"
      ]
     },
     "execution_count": 18,
     "metadata": {},
     "output_type": "execute_result"
    }
   ],
   "source": [
    "df"
   ]
  },
  {
   "cell_type": "code",
   "execution_count": 19,
   "metadata": {},
   "outputs": [
    {
     "ename": "NameError",
     "evalue": "name 'house' is not defined",
     "output_type": "error",
     "traceback": [
      "\u001b[1;31m---------------------------------------------------------------------------\u001b[0m",
      "\u001b[1;31mNameError\u001b[0m                                 Traceback (most recent call last)",
      "\u001b[1;32m<ipython-input-19-0b74bb1d4ec4>\u001b[0m in \u001b[0;36m<module>\u001b[1;34m\u001b[0m\n\u001b[1;32m----> 1\u001b[1;33m \u001b[0mhouse\u001b[0m\u001b[1;33m\u001b[0m\u001b[1;33m\u001b[0m\u001b[0m\n\u001b[0m",
      "\u001b[1;31mNameError\u001b[0m: name 'house' is not defined"
     ]
    }
   ],
   "source": [
    "house"
   ]
  },
  {
   "cell_type": "code",
   "execution_count": 20,
   "metadata": {},
   "outputs": [],
   "source": [
    "list_name = []\n",
    "list_type = []\n",
    "list_total_value = []\n",
    "list_missing_value = []\n",
    "list_unique_value = []\n",
    "\n",
    "for i in df.columns:\n",
    "    list_name.append(i)\n",
    "    list_type.append(str(df[i].dtype))\n",
    "    list_total_value.append(df[i].notnull().sum())\n",
    "    list_missing_value.append(df[i].isnull().sum())\n",
    "    list_unique_value.append(len(df[i].unique()))\n",
    "\n",
    "    df_info = pd.DataFrame(data={\"Total_Value\":list_total_value,\"Missing_Value\":list_missing_value,\"Unique_Value\":list_unique_value,\"Type\":list_type},index=list_name)"
   ]
  },
  {
   "cell_type": "code",
   "execution_count": 21,
   "metadata": {},
   "outputs": [
    {
     "data": {
      "text/html": [
       "<div>\n",
       "<style scoped>\n",
       "    .dataframe tbody tr th:only-of-type {\n",
       "        vertical-align: middle;\n",
       "    }\n",
       "\n",
       "    .dataframe tbody tr th {\n",
       "        vertical-align: top;\n",
       "    }\n",
       "\n",
       "    .dataframe thead th {\n",
       "        text-align: right;\n",
       "    }\n",
       "</style>\n",
       "<table border=\"1\" class=\"dataframe\">\n",
       "  <thead>\n",
       "    <tr style=\"text-align: right;\">\n",
       "      <th></th>\n",
       "      <th>Total_Value</th>\n",
       "      <th>Missing_Value</th>\n",
       "      <th>Unique_Value</th>\n",
       "      <th>Type</th>\n",
       "    </tr>\n",
       "  </thead>\n",
       "  <tbody>\n",
       "    <tr>\n",
       "      <th>suburb</th>\n",
       "      <td>199504</td>\n",
       "      <td>0</td>\n",
       "      <td>685</td>\n",
       "      <td>object</td>\n",
       "    </tr>\n",
       "    <tr>\n",
       "      <th>postalCode</th>\n",
       "      <td>199504</td>\n",
       "      <td>0</td>\n",
       "      <td>235</td>\n",
       "      <td>int64</td>\n",
       "    </tr>\n",
       "    <tr>\n",
       "      <th>sellPrice</th>\n",
       "      <td>199504</td>\n",
       "      <td>0</td>\n",
       "      <td>8439</td>\n",
       "      <td>int64</td>\n",
       "    </tr>\n",
       "    <tr>\n",
       "      <th>bed</th>\n",
       "      <td>199350</td>\n",
       "      <td>154</td>\n",
       "      <td>31</td>\n",
       "      <td>float64</td>\n",
       "    </tr>\n",
       "    <tr>\n",
       "      <th>bath</th>\n",
       "      <td>199504</td>\n",
       "      <td>0</td>\n",
       "      <td>24</td>\n",
       "      <td>int64</td>\n",
       "    </tr>\n",
       "    <tr>\n",
       "      <th>car</th>\n",
       "      <td>181353</td>\n",
       "      <td>18151</td>\n",
       "      <td>27</td>\n",
       "      <td>float64</td>\n",
       "    </tr>\n",
       "    <tr>\n",
       "      <th>propType</th>\n",
       "      <td>199504</td>\n",
       "      <td>0</td>\n",
       "      <td>8</td>\n",
       "      <td>object</td>\n",
       "    </tr>\n",
       "    <tr>\n",
       "      <th>Year</th>\n",
       "      <td>199504</td>\n",
       "      <td>0</td>\n",
       "      <td>20</td>\n",
       "      <td>int64</td>\n",
       "    </tr>\n",
       "    <tr>\n",
       "      <th>Month</th>\n",
       "      <td>199504</td>\n",
       "      <td>0</td>\n",
       "      <td>12</td>\n",
       "      <td>int64</td>\n",
       "    </tr>\n",
       "    <tr>\n",
       "      <th>Day</th>\n",
       "      <td>199504</td>\n",
       "      <td>0</td>\n",
       "      <td>31</td>\n",
       "      <td>int64</td>\n",
       "    </tr>\n",
       "  </tbody>\n",
       "</table>\n",
       "</div>"
      ],
      "text/plain": [
       "            Total_Value  Missing_Value  Unique_Value     Type\n",
       "suburb           199504              0           685   object\n",
       "postalCode       199504              0           235    int64\n",
       "sellPrice        199504              0          8439    int64\n",
       "bed              199350            154            31  float64\n",
       "bath             199504              0            24    int64\n",
       "car              181353          18151            27  float64\n",
       "propType         199504              0             8   object\n",
       "Year             199504              0            20    int64\n",
       "Month            199504              0            12    int64\n",
       "Day              199504              0            31    int64"
      ]
     },
     "execution_count": 21,
     "metadata": {},
     "output_type": "execute_result"
    }
   ],
   "source": [
    "df_info"
   ]
  },
  {
   "cell_type": "code",
   "execution_count": 22,
   "metadata": {},
   "outputs": [
    {
     "data": {
      "text/plain": [
       "'\\nRELATİON PLOTS WİTH MATPLOTLİB\\nplotlar bir kaç dala ayrılmakta ama ben burada iki tip kullandım diye biliriz.\\nrelation plot: iki değişken arasındaki ilişkiyi gösteren grafikler\\n\\nScatter plot: iki değişken arasındaki ilişkinin dağılımını veri noktalarıyla gösterir.\\nLineplot: İki değişken arasındaki ilişkiyi sürekli gösterir. Veri noktaları birbirine çizgilerle bağlıdır.(zaman serilerinde)\\n\\ns parametresi: marker boyutu\\nc parametresi:marker rengi,hangi değişkeni tuttuğunuda yazılabilir.\\nalpha: marker opaklığı\\n'"
      ]
     },
     "execution_count": 22,
     "metadata": {},
     "output_type": "execute_result"
    }
   ],
   "source": [
    "#burada matloplib anlat \n",
    "#burada iki tip plot göreceğiz \n",
    "\"\"\"\n",
    "RELATİON PLOTS WİTH MATPLOTLİB\n",
    "plotlar bir kaç dala ayrılmakta ama ben burada iki tip kullandım diye biliriz.\n",
    "relation plot: iki değişken arasındaki ilişkiyi gösteren grafikler\n",
    "\n",
    "Scatter plot: iki değişken arasındaki ilişkinin dağılımını veri noktalarıyla gösterir.\n",
    "Lineplot: İki değişken arasındaki ilişkiyi sürekli gösterir. Veri noktaları birbirine çizgilerle bağlıdır.(zaman serilerinde)\n",
    "\n",
    "s parametresi: marker boyutu\n",
    "c parametresi:marker rengi,hangi değişkeni tuttuğunuda yazılabilir.\n",
    "c parametresi sınıflarımızın dağılımını görmemiz için yardımcı oluyor iki faktör arasında \n",
    "sıınıflarımız nasıl bir davranış gösteriyor gibi\n",
    "alpha: marker opaklığı\n",
    "\"\"\"\n"
   ]
  },
  {
   "cell_type": "code",
   "execution_count": 23,
   "metadata": {},
   "outputs": [],
   "source": [
    "plt.rcParams.update({'font.size': 25}) #burada en son çıktı almak istediğimizde yazı boyutları random gelmesin biizm istediğmiz.\n",
    "#gelsin diye bir ekleme yapıyoruz.\n"
   ]
  },
  {
   "cell_type": "code",
   "execution_count": 25,
   "metadata": {},
   "outputs": [],
   "source": [
    "sns.set_context(\"paper\") #burada da kağıt ayarlıyoruz"
   ]
  },
  {
   "cell_type": "code",
   "execution_count": 40,
   "metadata": {},
   "outputs": [
    {
     "data": {
      "image/png": "[encoded data removed]",
      "text/plain": [
       "<Figure size 432x288 with 2 Axes>"
      ]
     },
     "metadata": {
      "needs_background": "light"
     },
     "output_type": "display_data"
    },
    {
     "data": {
      "text/plain": [
       "'scatter plat bizim anlam çıkartmamız gerekn bir yer ama ben burada bir yanlışlık yaptım ve hala çözemedim'"
      ]
     },
     "execution_count": 40,
     "metadata": {},
     "output_type": "execute_result"
    }
   ],
   "source": [
    "plt.scatter(df.suburb, df.sellPrice, c=df.Year, s=389, alpha=0.2, cmap=\"viridis\") #cmap renk paleti\n",
    "plt.colorbar(); #hangi rengin hangi değere denk geldiğini gösteren küçük ölçek\n",
    "plt.xlabel(\"suburb\") #eksen ismi\n",
    "plt.ylabel(\"sellPrice\")\n",
    "plt.title(\"Relationship between Suburb and SellPrice\")\n",
    "plt.show()\n",
    "\"\"\"scatter plat bizim anlam çıkartmamız gerekn bir yer ama ben burada bir yanlışlık yaptım ve hala çözemedim\n",
    "bunun içine şunu da ekleyebilirdik yeni çiftler evlilik sonrası tercihlerini nerelerede kullanıyorlar tabi içeriye bir çok\n",
    "olay eklemek gerekir okul durumu falan gibi ama buda mantıklı olurdu.\n",
    "\"\"\""
   ]
  },
  {
   "cell_type": "code",
   "execution_count": null,
   "metadata": {},
   "outputs": [],
   "source": [
    "Matplotlib ve seabornda daiki çeşit plot var \n",
    "bir tanesi subplots diğeride yukarıda olduğu gibi tekil bir çıktı alacağımız plotlar bunlar birkez yapılır ve geçilir\n",
    "ama subplotlar şuna benziyor bir plottan iki tane küçük plot çıkartıyormusuz gibi düşünmemiz gerektiğini\n",
    "hatırlatır bana\n",
    "subplotlar başlarken:\n",
    "    fig, ax = plt.subplots[]: figure ve axes object oluşturur. figür de her şey olabilir axes datayı tutar"
   ]
  },
  {
   "cell_type": "code",
   "execution_count": 49,
   "metadata": {},
   "outputs": [
    {
     "data": {
      "image/png": "[encoded data removed]",
      "text/plain": [
       "<Figure size 432x288 with 2 Axes>"
      ]
     },
     "metadata": {
      "needs_background": "light"
     },
     "output_type": "display_data"
    }
   ],
   "source": [
    "fig, ax = plt.subplots(2,1)\n",
    "plt.show() ''' içini doldurmadığım için bana bu şekilde boş bir obje olşturdu'''"
   ]
  },
  {
   "cell_type": "code",
   "execution_count": 46,
   "metadata": {},
   "outputs": [
    {
     "data": {
      "image/png": "[encoded data removed]",
      "text/plain": [
       "<Figure size 432x288 with 1 Axes>"
      ]
     },
     "metadata": {
      "needs_background": "light"
     },
     "output_type": "display_data"
    }
   ],
   "source": [
    "fig, ax = plt.subplots() #burda içini boş bıraktığım için benim için tek bir plot olşturdu\n",
    "ax.scatter(df.suburb, df.sellPrice, c=df.Year, cmap=\"viridis\") #eksenlerin scatterplot özelliğini kullanıyoruz\n",
    "ax.set_xlabel(\"suburb\")\n",
    "ax.set_ylabel(\"sellPrice\")\n",
    "ax.set_title(\"Relationship between Suburb and SellPrice\")\n",
    "plt.show()"
   ]
  },
  {
   "cell_type": "code",
   "execution_count": null,
   "metadata": {},
   "outputs": [],
   "source": [
    "Histogram: Numerik yada kategorik verilerde dağılımı yorumlamamıza yardımcı olur."
   ]
  },
  {
   "cell_type": "code",
   "execution_count": 52,
   "metadata": {},
   "outputs": [
    {
     "data": {
      "image/png": "[encoded data removed]",
      "text/plain": [
       "<Figure size 432x288 with 1 Axes>"
      ]
     },
     "metadata": {
      "needs_background": "light"
     },
     "output_type": "display_data"
    }
   ],
   "source": [
    "fig, ax = plt.subplots()\n",
    "ax.hist(df.sellPrice, label = \"sell Price\", bins=5) #bins veriyi sürekliden kesikli hale geçirmek için\n",
    "ax.set_xlabel(\"sell Price\")\n",
    "ax.set_ylabel(\"Number of Observations\")\n",
    "plt.show()\n",
    "#burada aslında her aralıkta ne kadar ev değeri var onu görmemiz gerekiyordu ama sanırım bir yanlışlık yaptım"
   ]
  },
  {
   "cell_type": "code",
   "execution_count": null,
   "metadata": {},
   "outputs": [],
   "source": [
    "bar plot:Kategorig verilerin özelliklerine bakmamızı sağlar"
   ]
  },
  {
   "cell_type": "code",
   "execution_count": 53,
   "metadata": {},
   "outputs": [
    {
     "data": {
      "text/plain": [
       "<matplotlib.axes._subplots.AxesSubplot at 0x237e6e88bb0>"
      ]
     },
     "execution_count": 53,
     "metadata": {},
     "output_type": "execute_result"
    },
    {
     "data": {
      "image/png": "[encoded data removed]",
      "text/plain": [
       "<Figure size 432x288 with 1 Axes>"
      ]
     },
     "metadata": {
      "needs_background": "light"
     },
     "output_type": "display_data"
    }
   ],
   "source": [
    "df[\"suburb\"].value_counts()[:15].plot.barh()"
   ]
  },
  {
   "cell_type": "code",
   "execution_count": 54,
   "metadata": {},
   "outputs": [
    {
     "data": {
      "text/plain": [
       "<matplotlib.axes._subplots.AxesSubplot at 0x237e6e9a6d0>"
      ]
     },
     "execution_count": 54,
     "metadata": {},
     "output_type": "execute_result"
    },
    {
     "data": {
      "image/png": "[encoded data removed]",
      "text/plain": [
       "<Figure size 432x288 with 1 Axes>"
      ]
     },
     "metadata": {
      "needs_background": "light"
     },
     "output_type": "display_data"
    }
   ],
   "source": [
    "df[\"propType\"].value_counts().plot.barh()"
   ]
  },
  {
   "cell_type": "code",
   "execution_count": 55,
   "metadata": {},
   "outputs": [],
   "source": [
    "data_num = df.select_dtypes([\"float64\",\"int64\"]).columns"
   ]
  },
  {
   "cell_type": "code",
   "execution_count": 56,
   "metadata": {},
   "outputs": [
    {
     "data": {
      "image/png": "[encoded data removed]",
      "text/plain": [
       "<Figure size 1080x1080 with 8 Axes>"
      ]
     },
     "metadata": {
      "needs_background": "light"
     },
     "output_type": "display_data"
    }
   ],
   "source": [
    "fig,ax=plt.subplots(nrows=4, ncols=2, figsize=(15,15))\n",
    "count=0\n",
    "for i in range(4):\n",
    "    for j in range(2):\n",
    "        sns.kdeplot(df[data_num[count]], ax = ax[i][j], shade=True, color=\"#008080\")\n",
    "        count+=1\n",
    "        \"\"\"\"\"\"\n",
    "        #yukarıda çalışmayan subplot u burda açlıştırdık"
   ]
  },
  {
   "cell_type": "code",
   "execution_count": 58,
   "metadata": {},
   "outputs": [
    {
     "data": {
      "image/png": "[encoded data removed]",
      "text/plain": [
       "<Figure size 1080x1080 with 8 Axes>"
      ]
     },
     "metadata": {
      "needs_background": "light"
     },
     "output_type": "display_data"
    }
   ],
   "source": [
    "''' Bu figürleri kaydetmek istiyorsam'''\n",
    "fig,ax=plt.subplots(nrows=4, ncols=2, figsize=(15,15))\n",
    "count=0\n",
    "for i in range(4):\n",
    "    for j in range(2):\n",
    "        sns.kdeplot(df[data_num[count]], ax = ax[i][j], shade=True, color=\"#008080\")\n",
    "        count+=1\n",
    "        \"\"\"\"\"\"\n",
    "fig.savefig(\"table.png\")  \n",
    "\n",
    "'''\n",
    "fig.savefig(\".png\"): kayıp olmadan kaydeder, yüksek kalitelidir ama çok hafıza tutar.\n",
    "fig.savefig(\".jpg\",quality=50):websitesine koymak için uygundur.\n",
    "fig.savefig(\".png\",dpi=200): dots per inch, dense rendering\n",
    "\n",
    "'''\n"
   ]
  },
  {
   "cell_type": "code",
   "execution_count": 57,
   "metadata": {},
   "outputs": [
    {
     "data": {
      "text/plain": [
       "<matplotlib.axes._subplots.AxesSubplot at 0x237e6efebe0>"
      ]
     },
     "execution_count": 57,
     "metadata": {},
     "output_type": "execute_result"
    },
    {
     "data": {
      "image/png": "[encoded data removed]",
      "text/plain": [
       "<Figure size 432x288 with 1 Axes>"
      ]
     },
     "metadata": {
      "needs_background": "light"
     },
     "output_type": "display_data"
    }
   ],
   "source": [
    "sns.countplot(df[\"Month\"])\n",
    "#countplot şunu sağlar kaçtane ay var ve bunların içinde olan verileri görüyoruz\n",
    "#bir aksis subplot oluşturmuş gibi düşünebiliriz.\n"
   ]
  },
  {
   "cell_type": "code",
   "execution_count": 59,
   "metadata": {},
   "outputs": [
    {
     "data": {
      "text/plain": [
       "<matplotlib.axes._subplots.AxesSubplot at 0x237ea4c1fd0>"
      ]
     },
     "execution_count": 59,
     "metadata": {},
     "output_type": "execute_result"
    },
    {
     "data": {
      "image/png": "[encoded data removed]",
      "text/plain": [
       "<Figure size 720x360 with 1 Axes>"
      ]
     },
     "metadata": {
      "needs_background": "light"
     },
     "output_type": "display_data"
    }
   ],
   "source": [
    "plt.figure(figsize=(10,5))\n",
    "sns.countplot(df[\"Year\"])"
   ]
  },
  {
   "cell_type": "code",
   "execution_count": 60,
   "metadata": {},
   "outputs": [
    {
     "data": {
      "text/plain": [
       "<matplotlib.axes._subplots.AxesSubplot at 0x237ea20c910>"
      ]
     },
     "execution_count": 60,
     "metadata": {},
     "output_type": "execute_result"
    },
    {
     "data": {
      "image/png": "[encoded data removed]",
      "text/plain": [
       "<Figure size 432x288 with 1 Axes>"
      ]
     },
     "metadata": {
      "needs_background": "light"
     },
     "output_type": "display_data"
    }
   ],
   "source": [
    "sns.barplot(x = df[\"Month\"], y = df[\"sellPrice\"], data = df) # Aylara göre ev fiyatları aylara göre nasıl bir dağılım"
   ]
  },
  {
   "cell_type": "code",
   "execution_count": 61,
   "metadata": {},
   "outputs": [
    {
     "data": {
      "text/plain": [
       "<matplotlib.axes._subplots.AxesSubplot at 0x237ea097a30>"
      ]
     },
     "execution_count": 61,
     "metadata": {},
     "output_type": "execute_result"
    },
    {
     "data": {
      "image/png": "[encoded data removed]",
      "text/plain": [
       "<Figure size 720x360 with 1 Axes>"
      ]
     },
     "metadata": {
      "needs_background": "light"
     },
     "output_type": "display_data"
    }
   ],
   "source": [
    "plt.figure(figsize=(10,5))\n",
    "sns.barplot(x = df[\"Year\"], y = df[\"sellPrice\"], data = df) # Yıllara göre ev fiyatları\n"
   ]
  },
  {
   "cell_type": "code",
   "execution_count": 62,
   "metadata": {},
   "outputs": [],
   "source": [
    "heat = pd.pivot_table(data = df,\n",
    "                    index = 'Month',\n",
    "                    values = 'sellPrice',\n",
    "                    columns = 'Year')\n",
    "heat.fillna(0, inplace = True)#"
   ]
  },
  {
   "cell_type": "code",
   "execution_count": 63,
   "metadata": {},
   "outputs": [
    {
     "data": {
      "text/html": [
       "<div>\n",
       "<style scoped>\n",
       "    .dataframe tbody tr th:only-of-type {\n",
       "        vertical-align: middle;\n",
       "    }\n",
       "\n",
       "    .dataframe tbody tr th {\n",
       "        vertical-align: top;\n",
       "    }\n",
       "\n",
       "    .dataframe thead th {\n",
       "        text-align: right;\n",
       "    }\n",
       "</style>\n",
       "<table border=\"1\" class=\"dataframe\">\n",
       "  <thead>\n",
       "    <tr style=\"text-align: right;\">\n",
       "      <th>Year</th>\n",
       "      <th>2000</th>\n",
       "      <th>2001</th>\n",
       "      <th>2002</th>\n",
       "      <th>2003</th>\n",
       "      <th>2004</th>\n",
       "      <th>2005</th>\n",
       "      <th>2006</th>\n",
       "      <th>2007</th>\n",
       "      <th>2008</th>\n",
       "      <th>2009</th>\n",
       "      <th>2010</th>\n",
       "      <th>2011</th>\n",
       "      <th>2012</th>\n",
       "      <th>2013</th>\n",
       "      <th>2014</th>\n",
       "      <th>2015</th>\n",
       "      <th>2016</th>\n",
       "      <th>2017</th>\n",
       "      <th>2018</th>\n",
       "      <th>2019</th>\n",
       "    </tr>\n",
       "    <tr>\n",
       "      <th>Month</th>\n",
       "      <th></th>\n",
       "      <th></th>\n",
       "      <th></th>\n",
       "      <th></th>\n",
       "      <th></th>\n",
       "      <th></th>\n",
       "      <th></th>\n",
       "      <th></th>\n",
       "      <th></th>\n",
       "      <th></th>\n",
       "      <th></th>\n",
       "      <th></th>\n",
       "      <th></th>\n",
       "      <th></th>\n",
       "      <th></th>\n",
       "      <th></th>\n",
       "      <th></th>\n",
       "      <th></th>\n",
       "      <th></th>\n",
       "      <th></th>\n",
       "    </tr>\n",
       "  </thead>\n",
       "  <tbody>\n",
       "    <tr>\n",
       "      <th>1</th>\n",
       "      <td>0.0</td>\n",
       "      <td>0.000000</td>\n",
       "      <td>0.0</td>\n",
       "      <td>0.000000e+00</td>\n",
       "      <td>0.000000e+00</td>\n",
       "      <td>5.425000e+05</td>\n",
       "      <td>4.711429e+05</td>\n",
       "      <td>5.390000e+05</td>\n",
       "      <td>8.738989e+05</td>\n",
       "      <td>7.761932e+05</td>\n",
       "      <td>8.655699e+05</td>\n",
       "      <td>9.408946e+05</td>\n",
       "      <td>8.351405e+05</td>\n",
       "      <td>8.847274e+05</td>\n",
       "      <td>1.033905e+06</td>\n",
       "      <td>1.064638e+06</td>\n",
       "      <td>1.082105e+06</td>\n",
       "      <td>1.098014e+06</td>\n",
       "      <td>1.111665e+06</td>\n",
       "      <td>1.103597e+06</td>\n",
       "    </tr>\n",
       "    <tr>\n",
       "      <th>2</th>\n",
       "      <td>0.0</td>\n",
       "      <td>960000.000000</td>\n",
       "      <td>0.0</td>\n",
       "      <td>1.170000e+06</td>\n",
       "      <td>6.810000e+05</td>\n",
       "      <td>5.883846e+05</td>\n",
       "      <td>9.530778e+05</td>\n",
       "      <td>8.098638e+05</td>\n",
       "      <td>1.222199e+06</td>\n",
       "      <td>8.274488e+05</td>\n",
       "      <td>1.077278e+06</td>\n",
       "      <td>1.095220e+06</td>\n",
       "      <td>9.476650e+05</td>\n",
       "      <td>9.870070e+05</td>\n",
       "      <td>1.240268e+06</td>\n",
       "      <td>1.316328e+06</td>\n",
       "      <td>1.328119e+06</td>\n",
       "      <td>1.450235e+06</td>\n",
       "      <td>1.403733e+06</td>\n",
       "      <td>1.202588e+06</td>\n",
       "    </tr>\n",
       "    <tr>\n",
       "      <th>3</th>\n",
       "      <td>0.0</td>\n",
       "      <td>896000.000000</td>\n",
       "      <td>0.0</td>\n",
       "      <td>0.000000e+00</td>\n",
       "      <td>1.023571e+06</td>\n",
       "      <td>7.204231e+05</td>\n",
       "      <td>6.806750e+05</td>\n",
       "      <td>1.061631e+06</td>\n",
       "      <td>1.016767e+06</td>\n",
       "      <td>9.577356e+05</td>\n",
       "      <td>1.218498e+06</td>\n",
       "      <td>1.129113e+06</td>\n",
       "      <td>1.076347e+06</td>\n",
       "      <td>1.080301e+06</td>\n",
       "      <td>1.224513e+06</td>\n",
       "      <td>1.353020e+06</td>\n",
       "      <td>1.411728e+06</td>\n",
       "      <td>1.493161e+06</td>\n",
       "      <td>1.530250e+06</td>\n",
       "      <td>1.230277e+06</td>\n",
       "    </tr>\n",
       "    <tr>\n",
       "      <th>4</th>\n",
       "      <td>0.0</td>\n",
       "      <td>463000.000000</td>\n",
       "      <td>765000.0</td>\n",
       "      <td>3.500000e+05</td>\n",
       "      <td>6.400000e+05</td>\n",
       "      <td>5.895781e+05</td>\n",
       "      <td>5.430357e+05</td>\n",
       "      <td>1.007723e+06</td>\n",
       "      <td>1.120504e+06</td>\n",
       "      <td>1.071910e+06</td>\n",
       "      <td>1.046887e+06</td>\n",
       "      <td>1.065464e+06</td>\n",
       "      <td>9.836697e+05</td>\n",
       "      <td>1.020852e+06</td>\n",
       "      <td>1.201937e+06</td>\n",
       "      <td>1.285391e+06</td>\n",
       "      <td>1.347292e+06</td>\n",
       "      <td>1.443569e+06</td>\n",
       "      <td>1.359263e+06</td>\n",
       "      <td>1.182867e+06</td>\n",
       "    </tr>\n",
       "    <tr>\n",
       "      <th>5</th>\n",
       "      <td>0.0</td>\n",
       "      <td>0.000000</td>\n",
       "      <td>442500.0</td>\n",
       "      <td>0.000000e+00</td>\n",
       "      <td>5.578333e+05</td>\n",
       "      <td>1.536000e+06</td>\n",
       "      <td>9.557273e+05</td>\n",
       "      <td>9.076435e+05</td>\n",
       "      <td>1.027770e+06</td>\n",
       "      <td>9.338651e+05</td>\n",
       "      <td>3.268803e+06</td>\n",
       "      <td>1.058386e+06</td>\n",
       "      <td>1.063544e+06</td>\n",
       "      <td>1.080215e+06</td>\n",
       "      <td>1.187194e+06</td>\n",
       "      <td>1.381526e+06</td>\n",
       "      <td>1.358007e+06</td>\n",
       "      <td>1.497958e+06</td>\n",
       "      <td>1.387143e+06</td>\n",
       "      <td>1.061774e+06</td>\n",
       "    </tr>\n",
       "    <tr>\n",
       "      <th>6</th>\n",
       "      <td>0.0</td>\n",
       "      <td>0.000000</td>\n",
       "      <td>485000.0</td>\n",
       "      <td>3.210000e+05</td>\n",
       "      <td>5.450000e+05</td>\n",
       "      <td>7.477833e+05</td>\n",
       "      <td>1.663132e+06</td>\n",
       "      <td>8.595243e+05</td>\n",
       "      <td>1.110492e+06</td>\n",
       "      <td>9.907050e+05</td>\n",
       "      <td>1.145334e+06</td>\n",
       "      <td>9.979122e+05</td>\n",
       "      <td>9.768713e+05</td>\n",
       "      <td>1.067895e+06</td>\n",
       "      <td>1.216359e+06</td>\n",
       "      <td>1.427008e+06</td>\n",
       "      <td>1.375798e+06</td>\n",
       "      <td>1.479885e+06</td>\n",
       "      <td>1.412025e+06</td>\n",
       "      <td>1.110175e+06</td>\n",
       "    </tr>\n",
       "    <tr>\n",
       "      <th>7</th>\n",
       "      <td>0.0</td>\n",
       "      <td>0.000000</td>\n",
       "      <td>0.0</td>\n",
       "      <td>5.875000e+05</td>\n",
       "      <td>6.600000e+05</td>\n",
       "      <td>6.612222e+05</td>\n",
       "      <td>1.013944e+06</td>\n",
       "      <td>7.874846e+05</td>\n",
       "      <td>9.348692e+05</td>\n",
       "      <td>9.219211e+05</td>\n",
       "      <td>9.417419e+05</td>\n",
       "      <td>9.419387e+05</td>\n",
       "      <td>9.129772e+05</td>\n",
       "      <td>9.909445e+05</td>\n",
       "      <td>1.117141e+06</td>\n",
       "      <td>1.330783e+06</td>\n",
       "      <td>1.230604e+06</td>\n",
       "      <td>1.331828e+06</td>\n",
       "      <td>1.214728e+06</td>\n",
       "      <td>1.110664e+06</td>\n",
       "    </tr>\n",
       "    <tr>\n",
       "      <th>8</th>\n",
       "      <td>0.0</td>\n",
       "      <td>0.000000</td>\n",
       "      <td>0.0</td>\n",
       "      <td>1.100000e+06</td>\n",
       "      <td>5.045714e+05</td>\n",
       "      <td>5.981000e+05</td>\n",
       "      <td>1.696375e+06</td>\n",
       "      <td>8.558083e+05</td>\n",
       "      <td>9.708809e+05</td>\n",
       "      <td>9.337268e+05</td>\n",
       "      <td>1.060277e+06</td>\n",
       "      <td>9.420094e+05</td>\n",
       "      <td>9.909445e+05</td>\n",
       "      <td>1.057105e+06</td>\n",
       "      <td>1.171205e+06</td>\n",
       "      <td>1.401863e+06</td>\n",
       "      <td>1.340230e+06</td>\n",
       "      <td>1.392379e+06</td>\n",
       "      <td>1.378613e+06</td>\n",
       "      <td>0.000000e+00</td>\n",
       "    </tr>\n",
       "    <tr>\n",
       "      <th>9</th>\n",
       "      <td>0.0</td>\n",
       "      <td>372000.000000</td>\n",
       "      <td>0.0</td>\n",
       "      <td>6.900000e+05</td>\n",
       "      <td>9.348462e+05</td>\n",
       "      <td>8.413000e+05</td>\n",
       "      <td>1.064833e+06</td>\n",
       "      <td>8.916254e+05</td>\n",
       "      <td>1.056483e+06</td>\n",
       "      <td>1.049700e+06</td>\n",
       "      <td>1.154134e+06</td>\n",
       "      <td>9.820021e+05</td>\n",
       "      <td>1.020478e+06</td>\n",
       "      <td>1.120323e+06</td>\n",
       "      <td>1.242007e+06</td>\n",
       "      <td>1.423952e+06</td>\n",
       "      <td>1.416687e+06</td>\n",
       "      <td>1.505014e+06</td>\n",
       "      <td>1.456903e+06</td>\n",
       "      <td>0.000000e+00</td>\n",
       "    </tr>\n",
       "    <tr>\n",
       "      <th>10</th>\n",
       "      <td>0.0</td>\n",
       "      <td>398333.333333</td>\n",
       "      <td>0.0</td>\n",
       "      <td>5.063333e+05</td>\n",
       "      <td>4.830000e+05</td>\n",
       "      <td>4.737353e+05</td>\n",
       "      <td>8.574167e+05</td>\n",
       "      <td>9.518030e+05</td>\n",
       "      <td>9.200266e+05</td>\n",
       "      <td>1.058706e+06</td>\n",
       "      <td>1.147810e+06</td>\n",
       "      <td>3.570377e+06</td>\n",
       "      <td>1.030169e+06</td>\n",
       "      <td>1.166172e+06</td>\n",
       "      <td>1.244635e+06</td>\n",
       "      <td>1.397798e+06</td>\n",
       "      <td>1.421828e+06</td>\n",
       "      <td>1.474181e+06</td>\n",
       "      <td>1.359046e+06</td>\n",
       "      <td>0.000000e+00</td>\n",
       "    </tr>\n",
       "    <tr>\n",
       "      <th>11</th>\n",
       "      <td>0.0</td>\n",
       "      <td>0.000000</td>\n",
       "      <td>0.0</td>\n",
       "      <td>4.981250e+05</td>\n",
       "      <td>5.469167e+05</td>\n",
       "      <td>6.402425e+05</td>\n",
       "      <td>6.595667e+05</td>\n",
       "      <td>1.002474e+06</td>\n",
       "      <td>9.147144e+05</td>\n",
       "      <td>1.171014e+06</td>\n",
       "      <td>1.134559e+06</td>\n",
       "      <td>1.026994e+06</td>\n",
       "      <td>1.004968e+06</td>\n",
       "      <td>1.170508e+06</td>\n",
       "      <td>1.297302e+06</td>\n",
       "      <td>1.424929e+06</td>\n",
       "      <td>1.466038e+06</td>\n",
       "      <td>1.475715e+06</td>\n",
       "      <td>1.401568e+06</td>\n",
       "      <td>0.000000e+00</td>\n",
       "    </tr>\n",
       "    <tr>\n",
       "      <th>12</th>\n",
       "      <td>3565000.0</td>\n",
       "      <td>936000.000000</td>\n",
       "      <td>0.0</td>\n",
       "      <td>0.000000e+00</td>\n",
       "      <td>5.095833e+05</td>\n",
       "      <td>7.242857e+05</td>\n",
       "      <td>6.230238e+05</td>\n",
       "      <td>9.826619e+05</td>\n",
       "      <td>8.568142e+05</td>\n",
       "      <td>1.009992e+06</td>\n",
       "      <td>1.005083e+06</td>\n",
       "      <td>9.465337e+05</td>\n",
       "      <td>1.008318e+06</td>\n",
       "      <td>1.143876e+06</td>\n",
       "      <td>1.204565e+06</td>\n",
       "      <td>1.303485e+06</td>\n",
       "      <td>1.364983e+06</td>\n",
       "      <td>1.385609e+06</td>\n",
       "      <td>1.258766e+06</td>\n",
       "      <td>0.000000e+00</td>\n",
       "    </tr>\n",
       "  </tbody>\n",
       "</table>\n",
       "</div>"
      ],
      "text/plain": [
       "Year        2000           2001      2002          2003          2004  \\\n",
       "Month                                                                   \n",
       "1            0.0       0.000000       0.0  0.000000e+00  0.000000e+00   \n",
       "2            0.0  960000.000000       0.0  1.170000e+06  6.810000e+05   \n",
       "3            0.0  896000.000000       0.0  0.000000e+00  1.023571e+06   \n",
       "4            0.0  463000.000000  765000.0  3.500000e+05  6.400000e+05   \n",
       "5            0.0       0.000000  442500.0  0.000000e+00  5.578333e+05   \n",
       "6            0.0       0.000000  485000.0  3.210000e+05  5.450000e+05   \n",
       "7            0.0       0.000000       0.0  5.875000e+05  6.600000e+05   \n",
       "8            0.0       0.000000       0.0  1.100000e+06  5.045714e+05   \n",
       "9            0.0  372000.000000       0.0  6.900000e+05  9.348462e+05   \n",
       "10           0.0  398333.333333       0.0  5.063333e+05  4.830000e+05   \n",
       "11           0.0       0.000000       0.0  4.981250e+05  5.469167e+05   \n",
       "12     3565000.0  936000.000000       0.0  0.000000e+00  5.095833e+05   \n",
       "\n",
       "Year           2005          2006          2007          2008          2009  \\\n",
       "Month                                                                         \n",
       "1      5.425000e+05  4.711429e+05  5.390000e+05  8.738989e+05  7.761932e+05   \n",
       "2      5.883846e+05  9.530778e+05  8.098638e+05  1.222199e+06  8.274488e+05   \n",
       "3      7.204231e+05  6.806750e+05  1.061631e+06  1.016767e+06  9.577356e+05   \n",
       "4      5.895781e+05  5.430357e+05  1.007723e+06  1.120504e+06  1.071910e+06   \n",
       "5      1.536000e+06  9.557273e+05  9.076435e+05  1.027770e+06  9.338651e+05   \n",
       "6      7.477833e+05  1.663132e+06  8.595243e+05  1.110492e+06  9.907050e+05   \n",
       "7      6.612222e+05  1.013944e+06  7.874846e+05  9.348692e+05  9.219211e+05   \n",
       "8      5.981000e+05  1.696375e+06  8.558083e+05  9.708809e+05  9.337268e+05   \n",
       "9      8.413000e+05  1.064833e+06  8.916254e+05  1.056483e+06  1.049700e+06   \n",
       "10     4.737353e+05  8.574167e+05  9.518030e+05  9.200266e+05  1.058706e+06   \n",
       "11     6.402425e+05  6.595667e+05  1.002474e+06  9.147144e+05  1.171014e+06   \n",
       "12     7.242857e+05  6.230238e+05  9.826619e+05  8.568142e+05  1.009992e+06   \n",
       "\n",
       "Year           2010          2011          2012          2013          2014  \\\n",
       "Month                                                                         \n",
       "1      8.655699e+05  9.408946e+05  8.351405e+05  8.847274e+05  1.033905e+06   \n",
       "2      1.077278e+06  1.095220e+06  9.476650e+05  9.870070e+05  1.240268e+06   \n",
       "3      1.218498e+06  1.129113e+06  1.076347e+06  1.080301e+06  1.224513e+06   \n",
       "4      1.046887e+06  1.065464e+06  9.836697e+05  1.020852e+06  1.201937e+06   \n",
       "5      3.268803e+06  1.058386e+06  1.063544e+06  1.080215e+06  1.187194e+06   \n",
       "6      1.145334e+06  9.979122e+05  9.768713e+05  1.067895e+06  1.216359e+06   \n",
       "7      9.417419e+05  9.419387e+05  9.129772e+05  9.909445e+05  1.117141e+06   \n",
       "8      1.060277e+06  9.420094e+05  9.909445e+05  1.057105e+06  1.171205e+06   \n",
       "9      1.154134e+06  9.820021e+05  1.020478e+06  1.120323e+06  1.242007e+06   \n",
       "10     1.147810e+06  3.570377e+06  1.030169e+06  1.166172e+06  1.244635e+06   \n",
       "11     1.134559e+06  1.026994e+06  1.004968e+06  1.170508e+06  1.297302e+06   \n",
       "12     1.005083e+06  9.465337e+05  1.008318e+06  1.143876e+06  1.204565e+06   \n",
       "\n",
       "Year           2015          2016          2017          2018          2019  \n",
       "Month                                                                        \n",
       "1      1.064638e+06  1.082105e+06  1.098014e+06  1.111665e+06  1.103597e+06  \n",
       "2      1.316328e+06  1.328119e+06  1.450235e+06  1.403733e+06  1.202588e+06  \n",
       "3      1.353020e+06  1.411728e+06  1.493161e+06  1.530250e+06  1.230277e+06  \n",
       "4      1.285391e+06  1.347292e+06  1.443569e+06  1.359263e+06  1.182867e+06  \n",
       "5      1.381526e+06  1.358007e+06  1.497958e+06  1.387143e+06  1.061774e+06  \n",
       "6      1.427008e+06  1.375798e+06  1.479885e+06  1.412025e+06  1.110175e+06  \n",
       "7      1.330783e+06  1.230604e+06  1.331828e+06  1.214728e+06  1.110664e+06  \n",
       "8      1.401863e+06  1.340230e+06  1.392379e+06  1.378613e+06  0.000000e+00  \n",
       "9      1.423952e+06  1.416687e+06  1.505014e+06  1.456903e+06  0.000000e+00  \n",
       "10     1.397798e+06  1.421828e+06  1.474181e+06  1.359046e+06  0.000000e+00  \n",
       "11     1.424929e+06  1.466038e+06  1.475715e+06  1.401568e+06  0.000000e+00  \n",
       "12     1.303485e+06  1.364983e+06  1.385609e+06  1.258766e+06  0.000000e+00  "
      ]
     },
     "execution_count": 63,
     "metadata": {},
     "output_type": "execute_result"
    }
   ],
   "source": [
    "heat"
   ]
  },
  {
   "cell_type": "code",
   "execution_count": 64,
   "metadata": {},
   "outputs": [
    {
     "data": {
      "text/plain": [
       "<matplotlib.axes._subplots.AxesSubplot at 0x237ea0970d0>"
      ]
     },
     "execution_count": 64,
     "metadata": {},
     "output_type": "execute_result"
    },
    {
     "data": {
      "image/png": "[encoded data removed]",
      "text/plain": [
       "<Figure size 1080x720 with 2 Axes>"
      ]
     },
     "metadata": {
      "needs_background": "light"
     },
     "output_type": "display_data"
    }
   ],
   "source": [
    "plt.figure(figsize=(15,10))\n",
    "plt.title('Yıllara ve Aylara Ev Fiyat Ortalamaları Isı Haritası')\n",
    "sns.heatmap(heat)"
   ]
  },
  {
   "cell_type": "code",
   "execution_count": 31,
   "metadata": {},
   "outputs": [
    {
     "ename": "SyntaxError",
     "evalue": "invalid syntax (<ipython-input-31-f6c8b79bfe6d>, line 1)",
     "output_type": "error",
     "traceback": [
      "\u001b[1;36m  File \u001b[1;32m\"<ipython-input-31-f6c8b79bfe6d>\"\u001b[1;36m, line \u001b[1;32m1\u001b[0m\n\u001b[1;33m    install -c conda-forge/label/gcc7 missingno\u001b[0m\n\u001b[1;37m               ^\u001b[0m\n\u001b[1;31mSyntaxError\u001b[0m\u001b[1;31m:\u001b[0m invalid syntax\n"
     ]
    }
   ],
   "source": []
  },
  {
   "cell_type": "code",
   "execution_count": 65,
   "metadata": {},
   "outputs": [],
   "source": [
    "import missingno as msno"
   ]
  },
  {
   "cell_type": "code",
   "execution_count": 66,
   "metadata": {},
   "outputs": [
    {
     "data": {
      "text/plain": [
       "<matplotlib.axes._subplots.AxesSubplot at 0x237e7ca63a0>"
      ]
     },
     "execution_count": 66,
     "metadata": {},
     "output_type": "execute_result"
    },
    {
     "data": {
      "image/png": "[encoded data removed]",
      "text/plain": [
       "<Figure size 1728x720 with 3 Axes>"
      ]
     },
     "metadata": {
      "needs_background": "light"
     },
     "output_type": "display_data"
    }
   ],
   "source": [
    "msno.bar(df)"
   ]
  },
  {
   "cell_type": "code",
   "execution_count": 67,
   "metadata": {},
   "outputs": [
    {
     "data": {
      "text/plain": [
       "<matplotlib.axes._subplots.AxesSubplot at 0x237e7cc29a0>"
      ]
     },
     "execution_count": 67,
     "metadata": {},
     "output_type": "execute_result"
    },
    {
     "data": {
      "image/png": "[encoded data removed]",
      "text/plain": [
       "<Figure size 1440x864 with 1 Axes>"
      ]
     },
     "metadata": {
      "needs_background": "light"
     },
     "output_type": "display_data"
    }
   ],
   "source": [
    "msno.heatmap(df)"
   ]
  },
  {
   "cell_type": "code",
   "execution_count": 68,
   "metadata": {},
   "outputs": [
    {
     "data": {
      "text/plain": [
       "' veriler aynı eksende olsaydı bu kayıtların birbirini etkilediğini söyleyebilirdik.'"
      ]
     },
     "execution_count": 68,
     "metadata": {},
     "output_type": "execute_result"
    },
    {
     "data": {
      "image/png": "[encoded data removed]",
      "text/plain": [
       "<Figure size 1800x720 with 2 Axes>"
      ]
     },
     "metadata": {
      "needs_background": "light"
     },
     "output_type": "display_data"
    }
   ],
   "source": [
    "msno.matrix(df) #kayıp dataların eğer burada bir verimiz de car üzerinde olduğu gibi kaıpları gösteren.\n",
    "\"\"\" veriler aynı eksende olsaydı bu kayıtların birbirini etkilediğini söyleyebilirdik.\"\"\""
   ]
  },
  {
   "cell_type": "code",
   "execution_count": 69,
   "metadata": {},
   "outputs": [
    {
     "data": {
      "text/plain": [
       "' hangi ilçede daha çok satış olduğunu ortalma ile sıraya veriyor '"
      ]
     },
     "execution_count": 69,
     "metadata": {},
     "output_type": "execute_result"
    }
   ],
   "source": [
    "suburb_siniflandirma = (df.groupby('suburb')['sellPrice'].mean().sort_values(ascending = False))\n",
    "\"\"\" hangi ilçede daha çok satış olduğunu ortalma ile sıraya veriyor \"\"\""
   ]
  },
  {
   "cell_type": "code",
   "execution_count": 70,
   "metadata": {},
   "outputs": [
    {
     "data": {
      "text/plain": [
       "suburb\n",
       "Point Piper         1.090144e+07\n",
       "Darling Point       5.262649e+06\n",
       "Collaroy Beach      4.926500e+06\n",
       "Watsons Bay         4.612878e+06\n",
       "Woolwich            4.526818e+06\n",
       "                        ...     \n",
       "Eagle Vale          4.615049e+05\n",
       "Tarneit             4.554000e+05\n",
       "Macquarie Fields    4.544467e+05\n",
       "Yanderra            4.283465e+05\n",
       "Oxenford            3.405000e+05\n",
       "Name: sellPrice, Length: 685, dtype: float64"
      ]
     },
     "execution_count": 70,
     "metadata": {},
     "output_type": "execute_result"
    }
   ],
   "source": [
    "suburb_siniflandirma"
   ]
  },
  {
   "cell_type": "code",
   "execution_count": 71,
   "metadata": {},
   "outputs": [
    {
     "data": {
      "text/plain": [
       "' burda satış ortalmalarını gruplara ayırdık'"
      ]
     },
     "execution_count": 71,
     "metadata": {},
     "output_type": "execute_result"
    }
   ],
   "source": [
    "suburb_grup1 = list(suburb_siniflandirma[:137].index)\n",
    "suburb_grup2 = list(suburb_siniflandirma[137:274].index)\n",
    "suburb_grup3 = list(suburb_siniflandirma[274:411].index)\n",
    "suburb_grup4 = list(suburb_siniflandirma[411:548].index)\n",
    "suburb_grup5 = list(suburb_siniflandirma[548:685].index)\n",
    "\"\"\" burda satış ortalmalarını gruplara ayırdık\"\"\""
   ]
  },
  {
   "cell_type": "code",
   "execution_count": 72,
   "metadata": {},
   "outputs": [
    {
     "data": {
      "text/plain": [
       "'burda suburb değerlerine 0 dan 4 e kadar değerler vereek hangi grupta ise atadık.'"
      ]
     },
     "execution_count": 72,
     "metadata": {},
     "output_type": "execute_result"
    }
   ],
   "source": [
    "df.replace(suburb_grup1, 0, inplace=True)\n",
    "df.replace(suburb_grup2, 1, inplace=True)\n",
    "df.replace(suburb_grup3, 2, inplace=True)\n",
    "df.replace(suburb_grup4, 3, inplace=True)\n",
    "df.replace(suburb_grup5, 4, inplace=True)\n",
    "\"\"\"burda suburb değerlerine 0 dan 4 e kadar değerler vereek hangi grupta ise atadık.\"\"\""
   ]
  },
  {
   "cell_type": "code",
   "execution_count": 73,
   "metadata": {},
   "outputs": [
    {
     "data": {
      "text/html": [
       "<div>\n",
       "<style scoped>\n",
       "    .dataframe tbody tr th:only-of-type {\n",
       "        vertical-align: middle;\n",
       "    }\n",
       "\n",
       "    .dataframe tbody tr th {\n",
       "        vertical-align: top;\n",
       "    }\n",
       "\n",
       "    .dataframe thead th {\n",
       "        text-align: right;\n",
       "    }\n",
       "</style>\n",
       "<table border=\"1\" class=\"dataframe\">\n",
       "  <thead>\n",
       "    <tr style=\"text-align: right;\">\n",
       "      <th></th>\n",
       "      <th>suburb</th>\n",
       "      <th>postalCode</th>\n",
       "      <th>sellPrice</th>\n",
       "      <th>bed</th>\n",
       "      <th>bath</th>\n",
       "      <th>car</th>\n",
       "      <th>propType</th>\n",
       "      <th>Year</th>\n",
       "      <th>Month</th>\n",
       "      <th>Day</th>\n",
       "    </tr>\n",
       "  </thead>\n",
       "  <tbody>\n",
       "    <tr>\n",
       "      <th>0</th>\n",
       "      <td>1</td>\n",
       "      <td>2107</td>\n",
       "      <td>1210000</td>\n",
       "      <td>4.0</td>\n",
       "      <td>2</td>\n",
       "      <td>2.0</td>\n",
       "      <td>house</td>\n",
       "      <td>2019</td>\n",
       "      <td>6</td>\n",
       "      <td>19</td>\n",
       "    </tr>\n",
       "    <tr>\n",
       "      <th>1</th>\n",
       "      <td>1</td>\n",
       "      <td>2107</td>\n",
       "      <td>2250000</td>\n",
       "      <td>4.0</td>\n",
       "      <td>3</td>\n",
       "      <td>4.0</td>\n",
       "      <td>house</td>\n",
       "      <td>2019</td>\n",
       "      <td>6</td>\n",
       "      <td>13</td>\n",
       "    </tr>\n",
       "    <tr>\n",
       "      <th>2</th>\n",
       "      <td>0</td>\n",
       "      <td>2107</td>\n",
       "      <td>2920000</td>\n",
       "      <td>3.0</td>\n",
       "      <td>3</td>\n",
       "      <td>2.0</td>\n",
       "      <td>house</td>\n",
       "      <td>2019</td>\n",
       "      <td>6</td>\n",
       "      <td>7</td>\n",
       "    </tr>\n",
       "    <tr>\n",
       "      <th>3</th>\n",
       "      <td>1</td>\n",
       "      <td>2107</td>\n",
       "      <td>1530000</td>\n",
       "      <td>3.0</td>\n",
       "      <td>1</td>\n",
       "      <td>2.0</td>\n",
       "      <td>house</td>\n",
       "      <td>2019</td>\n",
       "      <td>5</td>\n",
       "      <td>28</td>\n",
       "    </tr>\n",
       "    <tr>\n",
       "      <th>4</th>\n",
       "      <td>0</td>\n",
       "      <td>2107</td>\n",
       "      <td>8000000</td>\n",
       "      <td>5.0</td>\n",
       "      <td>4</td>\n",
       "      <td>4.0</td>\n",
       "      <td>house</td>\n",
       "      <td>2019</td>\n",
       "      <td>5</td>\n",
       "      <td>22</td>\n",
       "    </tr>\n",
       "    <tr>\n",
       "      <th>...</th>\n",
       "      <td>...</td>\n",
       "      <td>...</td>\n",
       "      <td>...</td>\n",
       "      <td>...</td>\n",
       "      <td>...</td>\n",
       "      <td>...</td>\n",
       "      <td>...</td>\n",
       "      <td>...</td>\n",
       "      <td>...</td>\n",
       "      <td>...</td>\n",
       "    </tr>\n",
       "    <tr>\n",
       "      <th>199499</th>\n",
       "      <td>1</td>\n",
       "      <td>2234</td>\n",
       "      <td>1900000</td>\n",
       "      <td>5.0</td>\n",
       "      <td>3</td>\n",
       "      <td>7.0</td>\n",
       "      <td>house</td>\n",
       "      <td>2014</td>\n",
       "      <td>6</td>\n",
       "      <td>20</td>\n",
       "    </tr>\n",
       "    <tr>\n",
       "      <th>199500</th>\n",
       "      <td>1</td>\n",
       "      <td>2234</td>\n",
       "      <td>980000</td>\n",
       "      <td>4.0</td>\n",
       "      <td>3</td>\n",
       "      <td>2.0</td>\n",
       "      <td>house</td>\n",
       "      <td>2014</td>\n",
       "      <td>5</td>\n",
       "      <td>26</td>\n",
       "    </tr>\n",
       "    <tr>\n",
       "      <th>199501</th>\n",
       "      <td>1</td>\n",
       "      <td>2234</td>\n",
       "      <td>850000</td>\n",
       "      <td>4.0</td>\n",
       "      <td>2</td>\n",
       "      <td>2.0</td>\n",
       "      <td>house</td>\n",
       "      <td>2014</td>\n",
       "      <td>4</td>\n",
       "      <td>17</td>\n",
       "    </tr>\n",
       "    <tr>\n",
       "      <th>199502</th>\n",
       "      <td>1</td>\n",
       "      <td>2234</td>\n",
       "      <td>640000</td>\n",
       "      <td>3.0</td>\n",
       "      <td>2</td>\n",
       "      <td>2.0</td>\n",
       "      <td>townhouse</td>\n",
       "      <td>2013</td>\n",
       "      <td>9</td>\n",
       "      <td>7</td>\n",
       "    </tr>\n",
       "    <tr>\n",
       "      <th>199503</th>\n",
       "      <td>1</td>\n",
       "      <td>2234</td>\n",
       "      <td>1611000</td>\n",
       "      <td>5.0</td>\n",
       "      <td>4</td>\n",
       "      <td>3.0</td>\n",
       "      <td>house</td>\n",
       "      <td>2011</td>\n",
       "      <td>4</td>\n",
       "      <td>16</td>\n",
       "    </tr>\n",
       "  </tbody>\n",
       "</table>\n",
       "<p>199504 rows × 10 columns</p>\n",
       "</div>"
      ],
      "text/plain": [
       "        suburb  postalCode  sellPrice  bed  bath  car   propType  Year  Month  \\\n",
       "0            1        2107    1210000  4.0     2  2.0      house  2019      6   \n",
       "1            1        2107    2250000  4.0     3  4.0      house  2019      6   \n",
       "2            0        2107    2920000  3.0     3  2.0      house  2019      6   \n",
       "3            1        2107    1530000  3.0     1  2.0      house  2019      5   \n",
       "4            0        2107    8000000  5.0     4  4.0      house  2019      5   \n",
       "...        ...         ...        ...  ...   ...  ...        ...   ...    ...   \n",
       "199499       1        2234    1900000  5.0     3  7.0      house  2014      6   \n",
       "199500       1        2234     980000  4.0     3  2.0      house  2014      5   \n",
       "199501       1        2234     850000  4.0     2  2.0      house  2014      4   \n",
       "199502       1        2234     640000  3.0     2  2.0  townhouse  2013      9   \n",
       "199503       1        2234    1611000  5.0     4  3.0      house  2011      4   \n",
       "\n",
       "        Day  \n",
       "0        19  \n",
       "1        13  \n",
       "2         7  \n",
       "3        28  \n",
       "4        22  \n",
       "...     ...  \n",
       "199499   20  \n",
       "199500   26  \n",
       "199501   17  \n",
       "199502    7  \n",
       "199503   16  \n",
       "\n",
       "[199504 rows x 10 columns]"
      ]
     },
     "execution_count": 73,
     "metadata": {},
     "output_type": "execute_result"
    }
   ],
   "source": [
    "df"
   ]
  },
  {
   "cell_type": "code",
   "execution_count": 74,
   "metadata": {},
   "outputs": [
    {
     "data": {
      "text/plain": [
       "'makinenin datayı daha iyi anlaması için '"
      ]
     },
     "execution_count": 74,
     "metadata": {},
     "output_type": "execute_result"
    }
   ],
   "source": [
    "df = pd.get_dummies(df,columns= [\"suburb\",\"propType\"], prefix= [\"suburb\",\"propType\"])\n",
    "\"\"\"makinenin datayı daha iyi anlaması için \"\"\""
   ]
  },
  {
   "cell_type": "code",
   "execution_count": 75,
   "metadata": {},
   "outputs": [
    {
     "data": {
      "text/html": [
       "<div>\n",
       "<style scoped>\n",
       "    .dataframe tbody tr th:only-of-type {\n",
       "        vertical-align: middle;\n",
       "    }\n",
       "\n",
       "    .dataframe tbody tr th {\n",
       "        vertical-align: top;\n",
       "    }\n",
       "\n",
       "    .dataframe thead th {\n",
       "        text-align: right;\n",
       "    }\n",
       "</style>\n",
       "<table border=\"1\" class=\"dataframe\">\n",
       "  <thead>\n",
       "    <tr style=\"text-align: right;\">\n",
       "      <th></th>\n",
       "      <th>postalCode</th>\n",
       "      <th>sellPrice</th>\n",
       "      <th>bed</th>\n",
       "      <th>bath</th>\n",
       "      <th>car</th>\n",
       "      <th>Year</th>\n",
       "      <th>Month</th>\n",
       "      <th>Day</th>\n",
       "      <th>suburb_0</th>\n",
       "      <th>suburb_1</th>\n",
       "      <th>...</th>\n",
       "      <th>suburb_3</th>\n",
       "      <th>suburb_4</th>\n",
       "      <th>propType_acreage</th>\n",
       "      <th>propType_duplex/semi-detached</th>\n",
       "      <th>propType_house</th>\n",
       "      <th>propType_other</th>\n",
       "      <th>propType_terrace</th>\n",
       "      <th>propType_townhouse</th>\n",
       "      <th>propType_villa</th>\n",
       "      <th>propType_warehouse</th>\n",
       "    </tr>\n",
       "  </thead>\n",
       "  <tbody>\n",
       "    <tr>\n",
       "      <th>0</th>\n",
       "      <td>2107</td>\n",
       "      <td>1210000</td>\n",
       "      <td>4.0</td>\n",
       "      <td>2</td>\n",
       "      <td>2.0</td>\n",
       "      <td>2019</td>\n",
       "      <td>6</td>\n",
       "      <td>19</td>\n",
       "      <td>0</td>\n",
       "      <td>1</td>\n",
       "      <td>...</td>\n",
       "      <td>0</td>\n",
       "      <td>0</td>\n",
       "      <td>0</td>\n",
       "      <td>0</td>\n",
       "      <td>1</td>\n",
       "      <td>0</td>\n",
       "      <td>0</td>\n",
       "      <td>0</td>\n",
       "      <td>0</td>\n",
       "      <td>0</td>\n",
       "    </tr>\n",
       "    <tr>\n",
       "      <th>1</th>\n",
       "      <td>2107</td>\n",
       "      <td>2250000</td>\n",
       "      <td>4.0</td>\n",
       "      <td>3</td>\n",
       "      <td>4.0</td>\n",
       "      <td>2019</td>\n",
       "      <td>6</td>\n",
       "      <td>13</td>\n",
       "      <td>0</td>\n",
       "      <td>1</td>\n",
       "      <td>...</td>\n",
       "      <td>0</td>\n",
       "      <td>0</td>\n",
       "      <td>0</td>\n",
       "      <td>0</td>\n",
       "      <td>1</td>\n",
       "      <td>0</td>\n",
       "      <td>0</td>\n",
       "      <td>0</td>\n",
       "      <td>0</td>\n",
       "      <td>0</td>\n",
       "    </tr>\n",
       "    <tr>\n",
       "      <th>2</th>\n",
       "      <td>2107</td>\n",
       "      <td>2920000</td>\n",
       "      <td>3.0</td>\n",
       "      <td>3</td>\n",
       "      <td>2.0</td>\n",
       "      <td>2019</td>\n",
       "      <td>6</td>\n",
       "      <td>7</td>\n",
       "      <td>1</td>\n",
       "      <td>0</td>\n",
       "      <td>...</td>\n",
       "      <td>0</td>\n",
       "      <td>0</td>\n",
       "      <td>0</td>\n",
       "      <td>0</td>\n",
       "      <td>1</td>\n",
       "      <td>0</td>\n",
       "      <td>0</td>\n",
       "      <td>0</td>\n",
       "      <td>0</td>\n",
       "      <td>0</td>\n",
       "    </tr>\n",
       "    <tr>\n",
       "      <th>3</th>\n",
       "      <td>2107</td>\n",
       "      <td>1530000</td>\n",
       "      <td>3.0</td>\n",
       "      <td>1</td>\n",
       "      <td>2.0</td>\n",
       "      <td>2019</td>\n",
       "      <td>5</td>\n",
       "      <td>28</td>\n",
       "      <td>0</td>\n",
       "      <td>1</td>\n",
       "      <td>...</td>\n",
       "      <td>0</td>\n",
       "      <td>0</td>\n",
       "      <td>0</td>\n",
       "      <td>0</td>\n",
       "      <td>1</td>\n",
       "      <td>0</td>\n",
       "      <td>0</td>\n",
       "      <td>0</td>\n",
       "      <td>0</td>\n",
       "      <td>0</td>\n",
       "    </tr>\n",
       "    <tr>\n",
       "      <th>4</th>\n",
       "      <td>2107</td>\n",
       "      <td>8000000</td>\n",
       "      <td>5.0</td>\n",
       "      <td>4</td>\n",
       "      <td>4.0</td>\n",
       "      <td>2019</td>\n",
       "      <td>5</td>\n",
       "      <td>22</td>\n",
       "      <td>1</td>\n",
       "      <td>0</td>\n",
       "      <td>...</td>\n",
       "      <td>0</td>\n",
       "      <td>0</td>\n",
       "      <td>0</td>\n",
       "      <td>0</td>\n",
       "      <td>1</td>\n",
       "      <td>0</td>\n",
       "      <td>0</td>\n",
       "      <td>0</td>\n",
       "      <td>0</td>\n",
       "      <td>0</td>\n",
       "    </tr>\n",
       "    <tr>\n",
       "      <th>...</th>\n",
       "      <td>...</td>\n",
       "      <td>...</td>\n",
       "      <td>...</td>\n",
       "      <td>...</td>\n",
       "      <td>...</td>\n",
       "      <td>...</td>\n",
       "      <td>...</td>\n",
       "      <td>...</td>\n",
       "      <td>...</td>\n",
       "      <td>...</td>\n",
       "      <td>...</td>\n",
       "      <td>...</td>\n",
       "      <td>...</td>\n",
       "      <td>...</td>\n",
       "      <td>...</td>\n",
       "      <td>...</td>\n",
       "      <td>...</td>\n",
       "      <td>...</td>\n",
       "      <td>...</td>\n",
       "      <td>...</td>\n",
       "      <td>...</td>\n",
       "    </tr>\n",
       "    <tr>\n",
       "      <th>199499</th>\n",
       "      <td>2234</td>\n",
       "      <td>1900000</td>\n",
       "      <td>5.0</td>\n",
       "      <td>3</td>\n",
       "      <td>7.0</td>\n",
       "      <td>2014</td>\n",
       "      <td>6</td>\n",
       "      <td>20</td>\n",
       "      <td>0</td>\n",
       "      <td>1</td>\n",
       "      <td>...</td>\n",
       "      <td>0</td>\n",
       "      <td>0</td>\n",
       "      <td>0</td>\n",
       "      <td>0</td>\n",
       "      <td>1</td>\n",
       "      <td>0</td>\n",
       "      <td>0</td>\n",
       "      <td>0</td>\n",
       "      <td>0</td>\n",
       "      <td>0</td>\n",
       "    </tr>\n",
       "    <tr>\n",
       "      <th>199500</th>\n",
       "      <td>2234</td>\n",
       "      <td>980000</td>\n",
       "      <td>4.0</td>\n",
       "      <td>3</td>\n",
       "      <td>2.0</td>\n",
       "      <td>2014</td>\n",
       "      <td>5</td>\n",
       "      <td>26</td>\n",
       "      <td>0</td>\n",
       "      <td>1</td>\n",
       "      <td>...</td>\n",
       "      <td>0</td>\n",
       "      <td>0</td>\n",
       "      <td>0</td>\n",
       "      <td>0</td>\n",
       "      <td>1</td>\n",
       "      <td>0</td>\n",
       "      <td>0</td>\n",
       "      <td>0</td>\n",
       "      <td>0</td>\n",
       "      <td>0</td>\n",
       "    </tr>\n",
       "    <tr>\n",
       "      <th>199501</th>\n",
       "      <td>2234</td>\n",
       "      <td>850000</td>\n",
       "      <td>4.0</td>\n",
       "      <td>2</td>\n",
       "      <td>2.0</td>\n",
       "      <td>2014</td>\n",
       "      <td>4</td>\n",
       "      <td>17</td>\n",
       "      <td>0</td>\n",
       "      <td>1</td>\n",
       "      <td>...</td>\n",
       "      <td>0</td>\n",
       "      <td>0</td>\n",
       "      <td>0</td>\n",
       "      <td>0</td>\n",
       "      <td>1</td>\n",
       "      <td>0</td>\n",
       "      <td>0</td>\n",
       "      <td>0</td>\n",
       "      <td>0</td>\n",
       "      <td>0</td>\n",
       "    </tr>\n",
       "    <tr>\n",
       "      <th>199502</th>\n",
       "      <td>2234</td>\n",
       "      <td>640000</td>\n",
       "      <td>3.0</td>\n",
       "      <td>2</td>\n",
       "      <td>2.0</td>\n",
       "      <td>2013</td>\n",
       "      <td>9</td>\n",
       "      <td>7</td>\n",
       "      <td>0</td>\n",
       "      <td>1</td>\n",
       "      <td>...</td>\n",
       "      <td>0</td>\n",
       "      <td>0</td>\n",
       "      <td>0</td>\n",
       "      <td>0</td>\n",
       "      <td>0</td>\n",
       "      <td>0</td>\n",
       "      <td>0</td>\n",
       "      <td>1</td>\n",
       "      <td>0</td>\n",
       "      <td>0</td>\n",
       "    </tr>\n",
       "    <tr>\n",
       "      <th>199503</th>\n",
       "      <td>2234</td>\n",
       "      <td>1611000</td>\n",
       "      <td>5.0</td>\n",
       "      <td>4</td>\n",
       "      <td>3.0</td>\n",
       "      <td>2011</td>\n",
       "      <td>4</td>\n",
       "      <td>16</td>\n",
       "      <td>0</td>\n",
       "      <td>1</td>\n",
       "      <td>...</td>\n",
       "      <td>0</td>\n",
       "      <td>0</td>\n",
       "      <td>0</td>\n",
       "      <td>0</td>\n",
       "      <td>1</td>\n",
       "      <td>0</td>\n",
       "      <td>0</td>\n",
       "      <td>0</td>\n",
       "      <td>0</td>\n",
       "      <td>0</td>\n",
       "    </tr>\n",
       "  </tbody>\n",
       "</table>\n",
       "<p>199504 rows × 21 columns</p>\n",
       "</div>"
      ],
      "text/plain": [
       "        postalCode  sellPrice  bed  bath  car  Year  Month  Day  suburb_0  \\\n",
       "0             2107    1210000  4.0     2  2.0  2019      6   19         0   \n",
       "1             2107    2250000  4.0     3  4.0  2019      6   13         0   \n",
       "2             2107    2920000  3.0     3  2.0  2019      6    7         1   \n",
       "3             2107    1530000  3.0     1  2.0  2019      5   28         0   \n",
       "4             2107    8000000  5.0     4  4.0  2019      5   22         1   \n",
       "...            ...        ...  ...   ...  ...   ...    ...  ...       ...   \n",
       "199499        2234    1900000  5.0     3  7.0  2014      6   20         0   \n",
       "199500        2234     980000  4.0     3  2.0  2014      5   26         0   \n",
       "199501        2234     850000  4.0     2  2.0  2014      4   17         0   \n",
       "199502        2234     640000  3.0     2  2.0  2013      9    7         0   \n",
       "199503        2234    1611000  5.0     4  3.0  2011      4   16         0   \n",
       "\n",
       "        suburb_1  ...  suburb_3  suburb_4  propType_acreage  \\\n",
       "0              1  ...         0         0                 0   \n",
       "1              1  ...         0         0                 0   \n",
       "2              0  ...         0         0                 0   \n",
       "3              1  ...         0         0                 0   \n",
       "4              0  ...         0         0                 0   \n",
       "...          ...  ...       ...       ...               ...   \n",
       "199499         1  ...         0         0                 0   \n",
       "199500         1  ...         0         0                 0   \n",
       "199501         1  ...         0         0                 0   \n",
       "199502         1  ...         0         0                 0   \n",
       "199503         1  ...         0         0                 0   \n",
       "\n",
       "        propType_duplex/semi-detached  propType_house  propType_other  \\\n",
       "0                                   0               1               0   \n",
       "1                                   0               1               0   \n",
       "2                                   0               1               0   \n",
       "3                                   0               1               0   \n",
       "4                                   0               1               0   \n",
       "...                               ...             ...             ...   \n",
       "199499                              0               1               0   \n",
       "199500                              0               1               0   \n",
       "199501                              0               1               0   \n",
       "199502                              0               0               0   \n",
       "199503                              0               1               0   \n",
       "\n",
       "        propType_terrace  propType_townhouse  propType_villa  \\\n",
       "0                      0                   0               0   \n",
       "1                      0                   0               0   \n",
       "2                      0                   0               0   \n",
       "3                      0                   0               0   \n",
       "4                      0                   0               0   \n",
       "...                  ...                 ...             ...   \n",
       "199499                 0                   0               0   \n",
       "199500                 0                   0               0   \n",
       "199501                 0                   0               0   \n",
       "199502                 0                   1               0   \n",
       "199503                 0                   0               0   \n",
       "\n",
       "        propType_warehouse  \n",
       "0                        0  \n",
       "1                        0  \n",
       "2                        0  \n",
       "3                        0  \n",
       "4                        0  \n",
       "...                    ...  \n",
       "199499                   0  \n",
       "199500                   0  \n",
       "199501                   0  \n",
       "199502                   0  \n",
       "199503                   0  \n",
       "\n",
       "[199504 rows x 21 columns]"
      ]
     },
     "execution_count": 75,
     "metadata": {},
     "output_type": "execute_result"
    }
   ],
   "source": [
    "df"
   ]
  },
  {
   "cell_type": "code",
   "execution_count": 76,
   "metadata": {},
   "outputs": [
    {
     "data": {
      "image/png": "[encoded data removed]",
      "text/plain": [
       "<Figure size 1296x1152 with 5 Axes>"
      ]
     },
     "metadata": {
      "needs_background": "light"
     },
     "output_type": "display_data"
    }
   ],
   "source": [
    "fig, ax =plt.subplots(nrows=5,ncols=1,figsize=(18,16))\n",
    "for i in range(5):\n",
    "    sns.boxplot(x = df[data_num[i]],ax=ax[i])\n",
    "    count = count+1\n",
    "    \"\"\"ayrıkırı değer dataların nasıl bir dağılım gösterdiğini bize veriyor.\"\"\""
   ]
  },
  {
   "cell_type": "code",
   "execution_count": 77,
   "metadata": {},
   "outputs": [],
   "source": [
    "data_num = list(df.select_dtypes([\"int64\",\"float64\"]).columns)\n",
    "data_num.remove(\"Year\")\n",
    "data_num.remove(\"Day\")\n",
    "data_num.remove(\"Month\")"
   ]
  },
  {
   "cell_type": "code",
   "execution_count": 78,
   "metadata": {},
   "outputs": [
    {
     "data": {
      "text/plain": [
       "{'postalCode': (1888.5, 2404.5),\n",
       " 'sellPrice': (-412500.0, 2607500.0),\n",
       " 'bed': (1.5, 5.5),\n",
       " 'bath': (-0.5, 3.5),\n",
       " 'car': (-0.5, 3.5)}"
      ]
     },
     "execution_count": 78,
     "metadata": {},
     "output_type": "execute_result"
    }
   ],
   "source": [
    "lower_and_upper = {}\n",
    "\n",
    "for col in data_num:\n",
    "    q1 = df[col].quantile(0.25)\n",
    "    q3 = df[col].quantile(0.75)\n",
    "    iqr = 1.5*(q3-q1)\n",
    "\n",
    "    lower_bound = q1-iqr\n",
    "    upper_bound = q3+iqr\n",
    "\n",
    "    lower_and_upper[col] = (lower_bound, upper_bound)\n",
    "    df.loc[(df.loc[:,col]<lower_bound),col] = lower_bound * 0.75\n",
    "    df.loc[(df.loc[:,col]>upper_bound),col] = upper_bound * 1.25\n",
    "\n",
    "\n",
    "lower_and_upper"
   ]
  },
  {
   "cell_type": "code",
   "execution_count": 79,
   "metadata": {},
   "outputs": [
    {
     "data": {
      "image/png": "[encoded data removed]",
      "text/plain": [
       "<Figure size 1296x1152 with 5 Axes>"
      ]
     },
     "metadata": {
      "needs_background": "light"
     },
     "output_type": "display_data"
    }
   ],
   "source": [
    "fig, ax =plt.subplots(nrows=5,ncols=1,figsize=(18,16))\n",
    "for i in range(5):\n",
    "    sns.boxplot(x = df[data_num[i]],ax=ax[i])\n",
    "    count = count+1"
   ]
  },
  {
   "cell_type": "code",
   "execution_count": 80,
   "metadata": {},
   "outputs": [],
   "source": [
    "from sklearn.impute import KNNImputer"
   ]
  },
  {
   "cell_type": "code",
   "execution_count": 81,
   "metadata": {},
   "outputs": [
    {
     "data": {
      "text/plain": [
       "postalCode                           0\n",
       "sellPrice                            0\n",
       "bed                                154\n",
       "bath                                 0\n",
       "car                              18151\n",
       "Year                                 0\n",
       "Month                                0\n",
       "Day                                  0\n",
       "suburb_0                             0\n",
       "suburb_1                             0\n",
       "suburb_2                             0\n",
       "suburb_3                             0\n",
       "suburb_4                             0\n",
       "propType_acreage                     0\n",
       "propType_duplex/semi-detached        0\n",
       "propType_house                       0\n",
       "propType_other                       0\n",
       "propType_terrace                     0\n",
       "propType_townhouse                   0\n",
       "propType_villa                       0\n",
       "propType_warehouse                   0\n",
       "dtype: int64"
      ]
     },
     "execution_count": 81,
     "metadata": {},
     "output_type": "execute_result"
    }
   ],
   "source": [
    "df.isnull().sum()"
   ]
  },
  {
   "cell_type": "code",
   "execution_count": 82,
   "metadata": {},
   "outputs": [],
   "source": [
    "knn_imputer = KNNImputer()\n",
    "df[\"bed\"] = knn_imputer.fit_transform(df[[\"bed\"]])\n",
    "df[\"car\"] = knn_imputer.fit_transform(df[[\"car\"]])"
   ]
  },
  {
   "cell_type": "code",
   "execution_count": 83,
   "metadata": {},
   "outputs": [
    {
     "data": {
      "text/plain": [
       "postalCode                      -0.358742\n",
       "sellPrice                        1.000000\n",
       "bed                              0.376424\n",
       "bath                             0.465725\n",
       "car                              0.218642\n",
       "Year                             0.177044\n",
       "Month                            0.015159\n",
       "Day                              0.005055\n",
       "suburb_0                         0.553235\n",
       "suburb_1                         0.153067\n",
       "suburb_2                        -0.095928\n",
       "suburb_3                        -0.283098\n",
       "suburb_4                        -0.354414\n",
       "propType_acreage                 0.008919\n",
       "propType_duplex/semi-detached   -0.059209\n",
       "propType_house                   0.202068\n",
       "propType_other                  -0.010698\n",
       "propType_terrace                 0.019996\n",
       "propType_townhouse              -0.152921\n",
       "propType_villa                  -0.129989\n",
       "propType_warehouse               0.002891\n",
       "Name: sellPrice, dtype: float64"
      ]
     },
     "execution_count": 83,
     "metadata": {},
     "output_type": "execute_result"
    }
   ],
   "source": [
    "df.corr()[\"sellPrice\"]"
   ]
  },
  {
   "cell_type": "code",
   "execution_count": 84,
   "metadata": {},
   "outputs": [],
   "source": [
    "import statsmodels.api as sm\n",
    "from sklearn import preprocessing\n",
    "from sklearn import linear_model\n",
    "from sklearn.linear_model import LinearRegression\n",
    "from sklearn.metrics import mean_squared_error, r2_score\n",
    "from sklearn.model_selection import train_test_split, cross_val_score, cross_val_predict"
   ]
  },
  {
   "cell_type": "code",
   "execution_count": 85,
   "metadata": {},
   "outputs": [],
   "source": [
    "X = df.drop([\"sellPrice\"],axis=1)\n",
    "y = df[\"sellPrice\"]"
   ]
  },
  {
   "cell_type": "code",
   "execution_count": 86,
   "metadata": {},
   "outputs": [],
   "source": [
    "X = sm.add_constant(X)"
   ]
  },
  {
   "cell_type": "code",
   "execution_count": 87,
   "metadata": {},
   "outputs": [],
   "source": [
    "X_train,X_test,y_train,y_test = train_test_split(X,y,test_size=0.2,random_state=42)\n"
   ]
  },
  {
   "cell_type": "code",
   "execution_count": 88,
   "metadata": {},
   "outputs": [],
   "source": [
    "stats_model = sm.OLS(y_train,X_train).fit()"
   ]
  },
  {
   "cell_type": "code",
   "execution_count": 89,
   "metadata": {},
   "outputs": [
    {
     "data": {
      "text/html": [
       "<table class=\"simpletable\">\n",
       "<caption>OLS Regression Results</caption>\n",
       "<tr>\n",
       "  <th>Dep. Variable:</th>        <td>sellPrice</td>    <th>  R-squared:         </th>  <td>   0.654</td>  \n",
       "</tr>\n",
       "<tr>\n",
       "  <th>Model:</th>                   <td>OLS</td>       <th>  Adj. R-squared:    </th>  <td>   0.654</td>  \n",
       "</tr>\n",
       "<tr>\n",
       "  <th>Method:</th>             <td>Least Squares</td>  <th>  F-statistic:       </th>  <td>1.678e+04</td> \n",
       "</tr>\n",
       "<tr>\n",
       "  <th>Date:</th>             <td>Sat, 23 Jan 2021</td> <th>  Prob (F-statistic):</th>   <td>  0.00</td>   \n",
       "</tr>\n",
       "<tr>\n",
       "  <th>Time:</th>                 <td>16:07:25</td>     <th>  Log-Likelihood:    </th> <td>-2.2899e+06</td>\n",
       "</tr>\n",
       "<tr>\n",
       "  <th>No. Observations:</th>      <td>159603</td>      <th>  AIC:               </th>  <td>4.580e+06</td> \n",
       "</tr>\n",
       "<tr>\n",
       "  <th>Df Residuals:</th>          <td>159584</td>      <th>  BIC:               </th>  <td>4.580e+06</td> \n",
       "</tr>\n",
       "<tr>\n",
       "  <th>Df Model:</th>              <td>    18</td>      <th>                     </th>      <td> </td>     \n",
       "</tr>\n",
       "<tr>\n",
       "  <th>Covariance Type:</th>      <td>nonrobust</td>    <th>                     </th>      <td> </td>     \n",
       "</tr>\n",
       "</table>\n",
       "<table class=\"simpletable\">\n",
       "<tr>\n",
       "                <td></td>                   <th>coef</th>     <th>std err</th>      <th>t</th>      <th>P>|t|</th>  <th>[0.025</th>    <th>0.975]</th>  \n",
       "</tr>\n",
       "<tr>\n",
       "  <th>const</th>                         <td>-1.061e+08</td> <td> 5.66e+05</td> <td> -187.388</td> <td> 0.000</td> <td>-1.07e+08</td> <td>-1.05e+08</td>\n",
       "</tr>\n",
       "<tr>\n",
       "  <th>postalCode</th>                    <td> -340.9175</td> <td>    4.492</td> <td>  -75.898</td> <td> 0.000</td> <td> -349.721</td> <td> -332.114</td>\n",
       "</tr>\n",
       "<tr>\n",
       "  <th>bed</th>                           <td> 7.887e+04</td> <td> 1412.574</td> <td>   55.837</td> <td> 0.000</td> <td> 7.61e+04</td> <td> 8.16e+04</td>\n",
       "</tr>\n",
       "<tr>\n",
       "  <th>bath</th>                          <td>  1.66e+05</td> <td> 1675.833</td> <td>   99.061</td> <td> 0.000</td> <td> 1.63e+05</td> <td> 1.69e+05</td>\n",
       "</tr>\n",
       "<tr>\n",
       "  <th>car</th>                           <td> 3.819e+04</td> <td> 1288.046</td> <td>   29.651</td> <td> 0.000</td> <td> 3.57e+04</td> <td> 4.07e+04</td>\n",
       "</tr>\n",
       "<tr>\n",
       "  <th>Year</th>                          <td> 7.038e+04</td> <td>  372.837</td> <td>  188.769</td> <td> 0.000</td> <td> 6.96e+04</td> <td> 7.11e+04</td>\n",
       "</tr>\n",
       "<tr>\n",
       "  <th>Month</th>                         <td> 7841.0911</td> <td>  316.685</td> <td>   24.760</td> <td> 0.000</td> <td> 7220.395</td> <td> 8461.787</td>\n",
       "</tr>\n",
       "<tr>\n",
       "  <th>Day</th>                           <td>  351.5687</td> <td>  118.677</td> <td>    2.962</td> <td> 0.003</td> <td>  118.963</td> <td>  584.174</td>\n",
       "</tr>\n",
       "<tr>\n",
       "  <th>suburb_0</th>                      <td>-2.049e+07</td> <td> 1.13e+05</td> <td> -181.307</td> <td> 0.000</td> <td>-2.07e+07</td> <td>-2.03e+07</td>\n",
       "</tr>\n",
       "<tr>\n",
       "  <th>suburb_1</th>                      <td>-2.106e+07</td> <td> 1.13e+05</td> <td> -186.030</td> <td> 0.000</td> <td>-2.13e+07</td> <td>-2.08e+07</td>\n",
       "</tr>\n",
       "<tr>\n",
       "  <th>suburb_2</th>                      <td>-2.133e+07</td> <td> 1.13e+05</td> <td> -188.274</td> <td> 0.000</td> <td>-2.15e+07</td> <td>-2.11e+07</td>\n",
       "</tr>\n",
       "<tr>\n",
       "  <th>suburb_3</th>                      <td>-2.156e+07</td> <td> 1.13e+05</td> <td> -190.171</td> <td> 0.000</td> <td>-2.18e+07</td> <td>-2.13e+07</td>\n",
       "</tr>\n",
       "<tr>\n",
       "  <th>suburb_4</th>                      <td>-2.163e+07</td> <td> 1.13e+05</td> <td> -190.946</td> <td> 0.000</td> <td>-2.19e+07</td> <td>-2.14e+07</td>\n",
       "</tr>\n",
       "<tr>\n",
       "  <th>propType_acreage</th>              <td>-1.314e+07</td> <td> 1.36e+05</td> <td>  -96.374</td> <td> 0.000</td> <td>-1.34e+07</td> <td>-1.29e+07</td>\n",
       "</tr>\n",
       "<tr>\n",
       "  <th>propType_duplex/semi-detached</th> <td>-1.344e+07</td> <td>  7.3e+04</td> <td> -184.068</td> <td> 0.000</td> <td>-1.36e+07</td> <td>-1.33e+07</td>\n",
       "</tr>\n",
       "<tr>\n",
       "  <th>propType_house</th>                <td>-1.324e+07</td> <td> 7.28e+04</td> <td> -181.854</td> <td> 0.000</td> <td>-1.34e+07</td> <td>-1.31e+07</td>\n",
       "</tr>\n",
       "<tr>\n",
       "  <th>propType_other</th>                <td>-1.324e+07</td> <td> 7.51e+04</td> <td> -176.170</td> <td> 0.000</td> <td>-1.34e+07</td> <td>-1.31e+07</td>\n",
       "</tr>\n",
       "<tr>\n",
       "  <th>propType_terrace</th>              <td> -1.32e+07</td> <td> 7.35e+04</td> <td> -179.532</td> <td> 0.000</td> <td>-1.33e+07</td> <td>-1.31e+07</td>\n",
       "</tr>\n",
       "<tr>\n",
       "  <th>propType_townhouse</th>            <td>-1.352e+07</td> <td> 7.29e+04</td> <td> -185.427</td> <td> 0.000</td> <td>-1.37e+07</td> <td>-1.34e+07</td>\n",
       "</tr>\n",
       "<tr>\n",
       "  <th>propType_villa</th>                <td>-1.344e+07</td> <td> 7.31e+04</td> <td> -183.699</td> <td> 0.000</td> <td>-1.36e+07</td> <td>-1.33e+07</td>\n",
       "</tr>\n",
       "<tr>\n",
       "  <th>propType_warehouse</th>            <td>-1.285e+07</td> <td> 1.01e+05</td> <td> -127.630</td> <td> 0.000</td> <td>-1.31e+07</td> <td>-1.27e+07</td>\n",
       "</tr>\n",
       "</table>\n",
       "<table class=\"simpletable\">\n",
       "<tr>\n",
       "  <th>Omnibus:</th>       <td>32667.452</td> <th>  Durbin-Watson:     </th>  <td>   1.994</td> \n",
       "</tr>\n",
       "<tr>\n",
       "  <th>Prob(Omnibus):</th>  <td> 0.000</td>   <th>  Jarque-Bera (JB):  </th> <td>107019.373</td>\n",
       "</tr>\n",
       "<tr>\n",
       "  <th>Skew:</th>           <td> 1.037</td>   <th>  Prob(JB):          </th>  <td>    0.00</td> \n",
       "</tr>\n",
       "<tr>\n",
       "  <th>Kurtosis:</th>       <td> 6.434</td>   <th>  Cond. No.          </th>  <td>5.34e+18</td> \n",
       "</tr>\n",
       "</table><br/><br/>Warnings:<br/>[1] Standard Errors assume that the covariance matrix of the errors is correctly specified.<br/>[2] The smallest eigenvalue is 5.11e-26. This might indicate that there are<br/>strong multicollinearity problems or that the design matrix is singular."
      ],
      "text/plain": [
       "<class 'statsmodels.iolib.summary.Summary'>\n",
       "\"\"\"\n",
       "                            OLS Regression Results                            \n",
       "==============================================================================\n",
       "Dep. Variable:              sellPrice   R-squared:                       0.654\n",
       "Model:                            OLS   Adj. R-squared:                  0.654\n",
       "Method:                 Least Squares   F-statistic:                 1.678e+04\n",
       "Date:                Sat, 23 Jan 2021   Prob (F-statistic):               0.00\n",
       "Time:                        16:07:25   Log-Likelihood:            -2.2899e+06\n",
       "No. Observations:              159603   AIC:                         4.580e+06\n",
       "Df Residuals:                  159584   BIC:                         4.580e+06\n",
       "Df Model:                          18                                         \n",
       "Covariance Type:            nonrobust                                         \n",
       "=================================================================================================\n",
       "                                    coef    std err          t      P>|t|      [0.025      0.975]\n",
       "-------------------------------------------------------------------------------------------------\n",
       "const                         -1.061e+08   5.66e+05   -187.388      0.000   -1.07e+08   -1.05e+08\n",
       "postalCode                     -340.9175      4.492    -75.898      0.000    -349.721    -332.114\n",
       "bed                            7.887e+04   1412.574     55.837      0.000    7.61e+04    8.16e+04\n",
       "bath                            1.66e+05   1675.833     99.061      0.000    1.63e+05    1.69e+05\n",
       "car                            3.819e+04   1288.046     29.651      0.000    3.57e+04    4.07e+04\n",
       "Year                           7.038e+04    372.837    188.769      0.000    6.96e+04    7.11e+04\n",
       "Month                          7841.0911    316.685     24.760      0.000    7220.395    8461.787\n",
       "Day                             351.5687    118.677      2.962      0.003     118.963     584.174\n",
       "suburb_0                      -2.049e+07   1.13e+05   -181.307      0.000   -2.07e+07   -2.03e+07\n",
       "suburb_1                      -2.106e+07   1.13e+05   -186.030      0.000   -2.13e+07   -2.08e+07\n",
       "suburb_2                      -2.133e+07   1.13e+05   -188.274      0.000   -2.15e+07   -2.11e+07\n",
       "suburb_3                      -2.156e+07   1.13e+05   -190.171      0.000   -2.18e+07   -2.13e+07\n",
       "suburb_4                      -2.163e+07   1.13e+05   -190.946      0.000   -2.19e+07   -2.14e+07\n",
       "propType_acreage              -1.314e+07   1.36e+05    -96.374      0.000   -1.34e+07   -1.29e+07\n",
       "propType_duplex/semi-detached -1.344e+07    7.3e+04   -184.068      0.000   -1.36e+07   -1.33e+07\n",
       "propType_house                -1.324e+07   7.28e+04   -181.854      0.000   -1.34e+07   -1.31e+07\n",
       "propType_other                -1.324e+07   7.51e+04   -176.170      0.000   -1.34e+07   -1.31e+07\n",
       "propType_terrace               -1.32e+07   7.35e+04   -179.532      0.000   -1.33e+07   -1.31e+07\n",
       "propType_townhouse            -1.352e+07   7.29e+04   -185.427      0.000   -1.37e+07   -1.34e+07\n",
       "propType_villa                -1.344e+07   7.31e+04   -183.699      0.000   -1.36e+07   -1.33e+07\n",
       "propType_warehouse            -1.285e+07   1.01e+05   -127.630      0.000   -1.31e+07   -1.27e+07\n",
       "==============================================================================\n",
       "Omnibus:                    32667.452   Durbin-Watson:                   1.994\n",
       "Prob(Omnibus):                  0.000   Jarque-Bera (JB):           107019.373\n",
       "Skew:                           1.037   Prob(JB):                         0.00\n",
       "Kurtosis:                       6.434   Cond. No.                     5.34e+18\n",
       "==============================================================================\n",
       "\n",
       "Warnings:\n",
       "[1] Standard Errors assume that the covariance matrix of the errors is correctly specified.\n",
       "[2] The smallest eigenvalue is 5.11e-26. This might indicate that there are\n",
       "strong multicollinearity problems or that the design matrix is singular.\n",
       "\"\"\""
      ]
     },
     "execution_count": 89,
     "metadata": {},
     "output_type": "execute_result"
    }
   ],
   "source": [
    "stats_model.summary()"
   ]
  },
  {
   "cell_type": "code",
   "execution_count": 90,
   "metadata": {},
   "outputs": [
    {
     "data": {
      "text/plain": [
       "411898.30957538664"
      ]
     },
     "execution_count": 90,
     "metadata": {},
     "output_type": "execute_result"
    }
   ],
   "source": [
    "rmse = np.sqrt(mean_squared_error(y_train, stats_model.predict(X_train)))\n",
    "rmse"
   ]
  },
  {
   "cell_type": "code",
   "execution_count": 91,
   "metadata": {},
   "outputs": [
    {
     "data": {
      "text/plain": [
       "416291.30340099585"
      ]
     },
     "execution_count": 91,
     "metadata": {},
     "output_type": "execute_result"
    }
   ],
   "source": [
    "rmse = np.sqrt(mean_squared_error(y_test, stats_model.predict(X_test)))\n",
    "rmse"
   ]
  },
  {
   "cell_type": "code",
   "execution_count": 92,
   "metadata": {},
   "outputs": [
    {
     "data": {
      "text/plain": [
       "2847514622609012.5"
      ]
     },
     "execution_count": 92,
     "metadata": {},
     "output_type": "execute_result"
    }
   ],
   "source": [
    "stats_model.mse_model"
   ]
  },
  {
   "cell_type": "code",
   "execution_count": 93,
   "metadata": {},
   "outputs": [],
   "source": [
    "df.to_excel(\"Sydney_3.1.xlsx\")"
   ]
  },
  {
   "cell_type": "code",
   "execution_count": null,
   "metadata": {},
   "outputs": [],
   "source": []
  }
 ],
 "metadata": {
  "kernelspec": {
   "display_name": "Python 3",
   "language": "python",
   "name": "python3"
  },
  "language_info": {
   "codemirror_mode": {
    "name": "ipython",
    "version": 3
   },
   "file_extension": ".py",
   "mimetype": "text/x-python",
   "name": "python",
   "nbconvert_exporter": "python",
   "pygments_lexer": "ipython3",
   "version": "3.8.3"
  }
 },
 "nbformat": 4,
 "nbformat_minor": 4
}
