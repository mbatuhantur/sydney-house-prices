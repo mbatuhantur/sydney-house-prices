{
 "cells": [
  {
   "cell_type": "code",
   "execution_count": 1,
   "metadata": {},
   "outputs": [],
   "source": [
    "from tkinter import *\n",
    "from tkinter import messagebox\n",
    "from tkinter import filedialog\n",
    "from tkinter.ttk import Combobox\n",
    "from tkinter import messagebox\n",
    "from tkinter import Canvas\n",
    "from tkinter import ttk\n",
    "import pandas as pd\n",
    "from sklearn.model_selection import train_test_split, GridSearchCV,cross_val_score\n",
    "from sklearn.metrics import mean_squared_error, r2_score\n",
    "import numpy as np\n",
    "import pandas as pd\n",
    "from sklearn import model_selection\n",
    "import xgboost as xgb\n",
    "from xgboost import XGBRegressor"
   ]
  },
  {
   "cell_type": "code",
   "execution_count": 2,
   "metadata": {},
   "outputs": [],
   "source": [
    "df_2 = pd.read_excel(\"Sydney_3.xlsx\")\n",
    "df = df_2.copy()"
   ]
  },
  {
   "cell_type": "code",
   "execution_count": 3,
   "metadata": {},
   "outputs": [],
   "source": [
    "df = df[[\"Id\",\"suburb\",\"postalCode\",\"sellPrice\",\"bed\",\"bath\",\"car\",\"propType\",\"day\",\"month\",\"year\"]]"
   ]
  },
  {
   "cell_type": "code",
   "execution_count": 4,
   "metadata": {},
   "outputs": [],
   "source": [
    "x = df.drop([\"sellPrice\"], axis=1)\n",
    "y = df[\"sellPrice\"]"
   ]
  },
  {
   "cell_type": "code",
   "execution_count": 5,
   "metadata": {},
   "outputs": [],
   "source": [
    "x_train, x_test, y_train, y_test = train_test_split(x,y, test_size=0.25, random_state=144)"
   ]
  },
  {
   "cell_type": "code",
   "execution_count": 6,
   "metadata": {},
   "outputs": [],
   "source": [
    "xgb1 = XGBRegressor(colsample_bytree = 0.5, learning_rate = 0.09, max_depth = 4, n_estimators = 2000)"
   ]
  },
  {
   "cell_type": "code",
   "execution_count": 7,
   "metadata": {},
   "outputs": [],
   "source": [
    "model_xgb = xgb1.fit(x_train, y_train)"
   ]
  },
  {
   "cell_type": "code",
   "execution_count": 8,
   "metadata": {},
   "outputs": [
    {
     "data": {
      "text/plain": [
       "array([ 601755.1, 3746536. , 1280687.1, 2528973.8,  760150.6],\n",
       "      dtype=float32)"
      ]
     },
     "execution_count": 8,
     "metadata": {},
     "output_type": "execute_result"
    }
   ],
   "source": [
    "model_xgb.predict(x_test)[15:20]"
   ]
  },
  {
   "cell_type": "code",
   "execution_count": 9,
   "metadata": {},
   "outputs": [
    {
     "data": {
      "text/plain": [
       "-0.7310935862523811"
      ]
     },
     "execution_count": 9,
     "metadata": {},
     "output_type": "execute_result"
    }
   ],
   "source": [
    "model_xgb.score(x_test, y_test)"
   ]
  },
  {
   "cell_type": "code",
   "execution_count": 10,
   "metadata": {},
   "outputs": [],
   "source": [
    "pencere = Tk()"
   ]
  },
  {
   "cell_type": "code",
   "execution_count": 11,
   "metadata": {},
   "outputs": [
    {
     "data": {
      "text/plain": [
       "''"
      ]
     },
     "execution_count": 11,
     "metadata": {},
     "output_type": "execute_result"
    }
   ],
   "source": [
    "pencere.title(\"Ev Fiyat Tahmini\")"
   ]
  },
  {
   "cell_type": "code",
   "execution_count": 12,
   "metadata": {},
   "outputs": [],
   "source": [
    "pencere.configure(background='#81e6d9')"
   ]
  },
  {
   "cell_type": "code",
   "execution_count": 13,
   "metadata": {},
   "outputs": [
    {
     "data": {
      "text/plain": [
       "''"
      ]
     },
     "execution_count": 13,
     "metadata": {},
     "output_type": "execute_result"
    }
   ],
   "source": [
    "pencere.geometry(\"1700x900\")\n",
    "                 "
   ]
  },
  {
   "cell_type": "code",
   "execution_count": 14,
   "metadata": {},
   "outputs": [
    {
     "data": {
      "text/plain": [
       "''"
      ]
     },
     "execution_count": 14,
     "metadata": {},
     "output_type": "execute_result"
    }
   ],
   "source": [
    "pencere.state(\"normal\")"
   ]
  },
  {
   "cell_type": "code",
   "execution_count": 15,
   "metadata": {},
   "outputs": [],
   "source": [
    "def olumsuz():\n",
    "    messagebox.showwarning(title=\"Dikkat\", message=\"Seçim Yapmadınız\")"
   ]
  },
  {
   "cell_type": "code",
   "execution_count": 16,
   "metadata": {},
   "outputs": [],
   "source": [
    "def mesaj():\n",
    "    messagebox.showinfo(title=\"Başarılı\", message=\"Seçim başarılı\")"
   ]
  },
  {
   "cell_type": "code",
   "execution_count": 19,
   "metadata": {},
   "outputs": [],
   "source": [
    "def bölgeler():\n",
    "    global bölge\n",
    "    bölge_deger = bölge_kutu.get()\n",
    "    if(bölge_deger == \"Castle Hill\"):\n",
    "        bölge = 0\n",
    "    elif(bölge_deger == \"Strathfield\"):\n",
    "        bölge = 1\n",
    "    elif(bölge_deger == \"Ermington\"):\n",
    "        bölge = 2\n",
    "    elif(bölge_deger == \"Carlingford\"):\n",
    "        bölge = 3\n",
    "    elif(bölge_deger == \"Auburn\"):\n",
    "        bölge = 4\n",
    "    elif(bölge_deger == \"Avalon Beach\"):\n",
    "        bölge = 5\n",
    "    elif(bölge_deger == \"Whale Beach\"):\n",
    "        bölge = 6\n",
    "    elif(bölge_deger == \"Illawong\"):\n",
    "        bölge = 7\n",
    "    elif(bölge_deger == \"Alfords Point\"):\n",
    "        bölge = 8\n",
    "    elif(bölge_deger == \"Bilgola Plateau\"):\n",
    "        bölge = 9\n",
    "    elif(bölge_deger == \"Clareville\"):\n",
    "        bölge = 10\n",
    "    elif(bölge_deger == \"Blacktown\"):\n",
    "        bölge = 11\n",
    "    elif(bölge_deger == \"Marayong\"):\n",
    "        bölge = 12\n",
    "    elif(bölge_deger == \"Kings Park\"):\n",
    "        bölge = 13\n",
    "    elif(bölge_deger == \"Prospect\"):\n",
    "        bölge = 14\n",
    "    else:\n",
    "        olumsuz()\n",
    "        print(bölge)\n",
    "def ev_türü():\n",
    "    global tür\n",
    "    tür_deger = tür_kutu.get()\n",
    "    if(tür_deger == \"House\"):\n",
    "        tür = 0\n",
    "    elif(tür_deger == \"Town House\"):\n",
    "        tür = 1\n",
    "    elif(tür_deger == \"duplex/semi-detached\"):\n",
    "        tür = 2\n",
    "    elif(tür_deger == \"villa\"):\n",
    "        tür = 3\n",
    "    elif(tür_deger == \"terrace\"):\n",
    "        tür = 4\n",
    "    elif(tür_deger == \"other\"):\n",
    "        tür = 5\n",
    "    elif(tür_deger == \"warehouse\"):\n",
    "        tür = 6\n",
    "    elif(tür_deger == \"acreage\"):\n",
    "        tür = 7\n",
    "    else:\n",
    "        olumsuz()\n",
    "def oda_sayı():  \n",
    "    global oda\n",
    "    oda_deger = oda_kutu.get()\n",
    "    if(oda_deger == \"1\"):\n",
    "        oda = 0\n",
    "    elif(oda_deger == \"2\"):\n",
    "        oda = 2\n",
    "    elif(oda_deger == \"3\"):\n",
    "        oda = 3\n",
    "    elif(oda_deger == \"4\"):\n",
    "        oda = 4\n",
    "    elif(oda_deger == \"5\"):\n",
    "        oda = 5\n",
    "    elif(oda_deger == \"6\"):\n",
    "        oda = 6  \n",
    "    else:\n",
    "        olumsuz() \n",
    "def banyo_sayısı():\n",
    "    global banyo\n",
    "    banyo_deger = banyo_kutu.get()\n",
    "    if(banyo_deger == \"1\"):\n",
    "        banyo = 0\n",
    "    elif(banyo_deger == \"2\"):\n",
    "        banyo = 2\n",
    "    elif(banyo_deger == \"3\"):\n",
    "        banyo = 3\n",
    "    elif(banyo_deger == \"4\"):\n",
    "        banyo = 4\n",
    "    else:\n",
    "        olumsuz()\n",
    "def araba_sayısı():\n",
    "    global araba\n",
    "    araba_deger = araba_kutu.get()\n",
    "    if(araba_deger == \"1\"):\n",
    "        araba = 0\n",
    "    elif(araba_deger == \"2\"):\n",
    "        araba = 2\n",
    "    elif(araba_deger == \"3\"):\n",
    "        araba = 3\n",
    "    elif(araba_deger == \"4\"):\n",
    "        araba = 4\n",
    "    else:\n",
    "        olumsuz()\n",
    "#-------\n",
    "baslık_label = Label(pencere, text = \"EV FİYAT TAHMİNİ\", font=\"helvetica 50\" ,borderwidth=20, padx = 550, pady = 40,background = \"#90cdf4\") \n",
    "baslık_label.place(x = 70 ,y = 20)\n",
    "bölge_label = Label(text = \"Bölge Seçimi\", font= \"helvetica 12\", borderwidth=3)\n",
    "bölge_label.place(x=100, y=300)\n",
    "bölgeler = [\"Castle Hill\",\"Strathfield\",\"Ermington\",\"Carlingford\"\n",
    "            ,\"Auburn\",\"Avalon Beach\",\"Whale Beach\",\"Illawong\"\n",
    "            ,\"Alfords Point\",\"Bilgola Plateau\",\"Clareville\"\n",
    "            ,\"Blacktown\",\"Marayong\",\"Kings Park\",\"Prospect\"]\n",
    "bölge_kutu = Combobox(pencere, values = bölgeler)\n",
    "bölge_kutu.place(x=100, y=350)\n",
    "bölge_buton = Button(pencere, text=\"Seç\", command= bölgeler, font=\"helvetica 12\", borderwidth=3)\n",
    "bölge_buton.place(x=100, y = 400)\n",
    "#-------\n",
    "bina_label = Label(text=\"Bina Türü Seçiniz:\", font=\"helvetica 12\", borderwidth=6)\n",
    "bina_label.place(x=300, y=300)\n",
    "\n",
    "ev_türü = [\"House\",\"Town House\",\"duplex/semi-detached\",\"villa\",\"terrace\",\"other\",\"warehouse\",\"acreage\"]\n",
    "tür_kutu = Combobox(pencere, values = ev_türü)\n",
    "tür_kutu.place(x =300, y =350)\n",
    "tür_buton = Button(pencere,text=\"Seç\",command=ev_türü,font=\"helvetica 12\", borderwidth=6)\n",
    "tür_buton.place(x = 300, y=400)\n",
    "#-----\n",
    "oda_label = Label(text =\"Oda Sayısı Seçiniz\", font=\"helvetica 12\", borderwidth=6)\n",
    "oda_label.place(x=500, y=300)\n",
    "\n",
    "oda_sayı = [\"1\",\"2\",\"3\",\"4\",\"5\",\"6\"]\n",
    "oda_kutu = Combobox(pencere, values =oda_sayı)\n",
    "oda_kutu.place(x=500, y=350)\n",
    "\n",
    "oda_button = Button(pencere, text=\"Seç\",command=oda_sayı, font=\"helvetica 12\",borderwidth=6)\n",
    "oda_button.place(x=500, y=400)\n",
    "#---------\n",
    "banyo_label = Label(text=\"Banyo Sayısı Seçin.\", font=\"helvetica 12\", borderwidth=6)\n",
    "banyo_label.place(x=300,y=500)\n",
    "banyo_sayısı =[\"1\",\"2\",\"3\",\"4\"]\n",
    "banyo_kutu = Combobox(pencere, values=banyo_sayısı)\n",
    "banyo_kutu.place(x=300, y=550)\n",
    "\n",
    "banyo_button = Button(pencere, text=\"Seç\",command=banyo_sayısı, font=\"helvetica 12\",borderwidth=6)\n",
    "banyo_kutu.place(x=300, y=600)\n",
    "#---------\n",
    "araba_label = Label(text=\"Araba Sayısı.\", font=\"helvetica 12\", borderwidth=6)\n",
    "araba_label.place(x=600,y=600)\n",
    "araba_sayısı =[\"1\",\"2\",\"3\",\"4\"]\n",
    "araba_kutu = Combobox(pencere, values=araba_sayısı)\n",
    "araba_kutu.place(x=600, y=650)\n",
    "\n",
    "banyo_button = Button(pencere, text=\"Seç\",command=araba_sayısı, font=\"helvetica 12\",borderwidth=6)\n",
    "banyo_kutu.place(x=600, y=700)\n",
    "#--------\n",
    "def hesapla():\n",
    "    yeni_veri = [[\"Id\",\"suburb\",\"bed\",\"bath\",\"car\",\"propType\"]]\n",
    "    yeni_veri = pd.DataFrame(yeni_veri).T\n",
    "    \n",
    "    df_2 = yeni_veri.rename(columns = {0:\"Id\",\n",
    "                                      1:\"suburb\",\n",
    "                                      2:\"propType\",\n",
    "                                      3:\"bed\",\n",
    "                                      4:\"bath\",\n",
    "                                      5:\"car\"})\n",
    "    pred = model_xgb.predict(df_2)\n",
    "    \n",
    "    if(pred <0):\n",
    "        pred = -1*pred\n",
    "        \n",
    "    pred = int(pred)\n",
    "    s2 = Label(pencere, text=pred,font=\"helvetica 22\",borderwidth=6,padx=200,pady=40)\n",
    "    s2.place(x=1210, y=700)\n",
    "    \n",
    "#----\n",
    "hesapla_buton = Button(pencere,text=\"HESAPLA\", command=hesapla,font=\"helvetica 15\",borderwidth=60,padx=100,pady=40)\n",
    "hesapla_buton.place(x=1200, y=800)\n",
    "\n",
    "s1 = Label(pencere,text=\"\",font=\"helvetica 12\", borderwidth=6,padx=200,pady=40)\n",
    "s1.place(x=1210, y=700)\n",
    "\n",
    "\n",
    "\n",
    "\n",
    "\n"
   ]
  },
  {
   "cell_type": "code",
   "execution_count": 18,
   "metadata": {},
   "outputs": [
    {
     "data": {
      "text/html": [
       "<div>\n",
       "<style scoped>\n",
       "    .dataframe tbody tr th:only-of-type {\n",
       "        vertical-align: middle;\n",
       "    }\n",
       "\n",
       "    .dataframe tbody tr th {\n",
       "        vertical-align: top;\n",
       "    }\n",
       "\n",
       "    .dataframe thead th {\n",
       "        text-align: right;\n",
       "    }\n",
       "</style>\n",
       "<table border=\"1\" class=\"dataframe\">\n",
       "  <thead>\n",
       "    <tr style=\"text-align: right;\">\n",
       "      <th></th>\n",
       "      <th>Id</th>\n",
       "      <th>suburb</th>\n",
       "      <th>postalCode</th>\n",
       "      <th>sellPrice</th>\n",
       "      <th>bed</th>\n",
       "      <th>bath</th>\n",
       "      <th>car</th>\n",
       "      <th>propType</th>\n",
       "      <th>day</th>\n",
       "      <th>month</th>\n",
       "      <th>year</th>\n",
       "    </tr>\n",
       "  </thead>\n",
       "  <tbody>\n",
       "    <tr>\n",
       "      <th>0</th>\n",
       "      <td>1</td>\n",
       "      <td>22</td>\n",
       "      <td>2107</td>\n",
       "      <td>1210000</td>\n",
       "      <td>4.0</td>\n",
       "      <td>2</td>\n",
       "      <td>2.0</td>\n",
       "      <td>2</td>\n",
       "      <td>19</td>\n",
       "      <td>6</td>\n",
       "      <td>2019</td>\n",
       "    </tr>\n",
       "    <tr>\n",
       "      <th>1</th>\n",
       "      <td>2</td>\n",
       "      <td>22</td>\n",
       "      <td>2107</td>\n",
       "      <td>2250000</td>\n",
       "      <td>4.0</td>\n",
       "      <td>3</td>\n",
       "      <td>4.0</td>\n",
       "      <td>2</td>\n",
       "      <td>13</td>\n",
       "      <td>6</td>\n",
       "      <td>2019</td>\n",
       "    </tr>\n",
       "    <tr>\n",
       "      <th>2</th>\n",
       "      <td>3</td>\n",
       "      <td>654</td>\n",
       "      <td>2107</td>\n",
       "      <td>2920000</td>\n",
       "      <td>3.0</td>\n",
       "      <td>3</td>\n",
       "      <td>2.0</td>\n",
       "      <td>2</td>\n",
       "      <td>7</td>\n",
       "      <td>6</td>\n",
       "      <td>2019</td>\n",
       "    </tr>\n",
       "    <tr>\n",
       "      <th>3</th>\n",
       "      <td>4</td>\n",
       "      <td>22</td>\n",
       "      <td>2107</td>\n",
       "      <td>1530000</td>\n",
       "      <td>3.0</td>\n",
       "      <td>1</td>\n",
       "      <td>2.0</td>\n",
       "      <td>2</td>\n",
       "      <td>28</td>\n",
       "      <td>5</td>\n",
       "      <td>2019</td>\n",
       "    </tr>\n",
       "    <tr>\n",
       "      <th>4</th>\n",
       "      <td>5</td>\n",
       "      <td>654</td>\n",
       "      <td>2107</td>\n",
       "      <td>8000000</td>\n",
       "      <td>5.0</td>\n",
       "      <td>4</td>\n",
       "      <td>4.0</td>\n",
       "      <td>2</td>\n",
       "      <td>22</td>\n",
       "      <td>5</td>\n",
       "      <td>2019</td>\n",
       "    </tr>\n",
       "  </tbody>\n",
       "</table>\n",
       "</div>"
      ],
      "text/plain": [
       "   Id  suburb  postalCode  sellPrice  bed  bath  car  propType  day  month  \\\n",
       "0   1      22        2107    1210000  4.0     2  2.0         2   19      6   \n",
       "1   2      22        2107    2250000  4.0     3  4.0         2   13      6   \n",
       "2   3     654        2107    2920000  3.0     3  2.0         2    7      6   \n",
       "3   4      22        2107    1530000  3.0     1  2.0         2   28      5   \n",
       "4   5     654        2107    8000000  5.0     4  4.0         2   22      5   \n",
       "\n",
       "   year  \n",
       "0  2019  \n",
       "1  2019  \n",
       "2  2019  \n",
       "3  2019  \n",
       "4  2019  "
      ]
     },
     "execution_count": 18,
     "metadata": {},
     "output_type": "execute_result"
    }
   ],
   "source": [
    "df.head()"
   ]
  },
  {
   "cell_type": "code",
   "execution_count": null,
   "metadata": {},
   "outputs": [],
   "source": []
  }
 ],
 "metadata": {
  "kernelspec": {
   "display_name": "Python 3",
   "language": "python",
   "name": "python3"
  },
  "language_info": {
   "codemirror_mode": {
    "name": "ipython",
    "version": 3
   },
   "file_extension": ".py",
   "mimetype": "text/x-python",
   "name": "python",
   "nbconvert_exporter": "python",
   "pygments_lexer": "ipython3",
   "version": "3.8.3"
  }
 },
 "nbformat": 4,
 "nbformat_minor": 4
}
